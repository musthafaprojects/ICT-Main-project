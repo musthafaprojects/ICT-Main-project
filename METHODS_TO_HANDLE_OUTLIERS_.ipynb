{
 "cells": [
  {
   "cell_type": "code",
   "execution_count": null,
   "id": "06c575ea",
   "metadata": {
    "id": "06c575ea"
   },
   "outputs": [],
   "source": [
    "import pandas as pd\n",
    "import numpy as np\n",
    "import seaborn as sns\n",
    "import matplotlib.pyplot as plt\n",
    "\n"
   ]
  },
  {
   "cell_type": "code",
   "execution_count": null,
   "id": "3f96838d",
   "metadata": {
    "id": "3f96838d"
   },
   "outputs": [],
   "source": [
    "data=pd.read_csv(r'C:\\Users\\ADMIN\\OneDrive\\Desktop\\ICT PROJECT WORK\\CREDIT CARD LEAD PREDICTION\\train.csv')"
   ]
  },
  {
   "cell_type": "code",
   "execution_count": null,
   "id": "42a39341",
   "metadata": {
    "id": "42a39341",
    "outputId": "312b14d6-d8ce-4d95-f30c-810a3aacf884"
   },
   "outputs": [
    {
     "data": {
      "text/html": [
       "<div>\n",
       "<style scoped>\n",
       "    .dataframe tbody tr th:only-of-type {\n",
       "        vertical-align: middle;\n",
       "    }\n",
       "\n",
       "    .dataframe tbody tr th {\n",
       "        vertical-align: top;\n",
       "    }\n",
       "\n",
       "    .dataframe thead th {\n",
       "        text-align: right;\n",
       "    }\n",
       "</style>\n",
       "<table border=\"1\" class=\"dataframe\">\n",
       "  <thead>\n",
       "    <tr style=\"text-align: right;\">\n",
       "      <th></th>\n",
       "      <th>ID</th>\n",
       "      <th>Gender</th>\n",
       "      <th>Age</th>\n",
       "      <th>Region_Code</th>\n",
       "      <th>Occupation</th>\n",
       "      <th>Channel_Code</th>\n",
       "      <th>Vintage</th>\n",
       "      <th>Credit_Product</th>\n",
       "      <th>Avg_Account_Balance</th>\n",
       "      <th>Is_Active</th>\n",
       "      <th>Is_Lead</th>\n",
       "    </tr>\n",
       "  </thead>\n",
       "  <tbody>\n",
       "    <tr>\n",
       "      <th>0</th>\n",
       "      <td>NNVBBKZB</td>\n",
       "      <td>Female</td>\n",
       "      <td>73</td>\n",
       "      <td>RG268</td>\n",
       "      <td>Other</td>\n",
       "      <td>X3</td>\n",
       "      <td>43</td>\n",
       "      <td>No</td>\n",
       "      <td>1045696</td>\n",
       "      <td>No</td>\n",
       "      <td>0</td>\n",
       "    </tr>\n",
       "    <tr>\n",
       "      <th>1</th>\n",
       "      <td>IDD62UNG</td>\n",
       "      <td>Female</td>\n",
       "      <td>30</td>\n",
       "      <td>RG277</td>\n",
       "      <td>Salaried</td>\n",
       "      <td>X1</td>\n",
       "      <td>32</td>\n",
       "      <td>No</td>\n",
       "      <td>581988</td>\n",
       "      <td>No</td>\n",
       "      <td>0</td>\n",
       "    </tr>\n",
       "    <tr>\n",
       "      <th>2</th>\n",
       "      <td>HD3DSEMC</td>\n",
       "      <td>Female</td>\n",
       "      <td>56</td>\n",
       "      <td>RG268</td>\n",
       "      <td>Self_Employed</td>\n",
       "      <td>X3</td>\n",
       "      <td>26</td>\n",
       "      <td>No</td>\n",
       "      <td>1484315</td>\n",
       "      <td>Yes</td>\n",
       "      <td>0</td>\n",
       "    </tr>\n",
       "    <tr>\n",
       "      <th>3</th>\n",
       "      <td>BF3NC7KV</td>\n",
       "      <td>Male</td>\n",
       "      <td>34</td>\n",
       "      <td>RG270</td>\n",
       "      <td>Salaried</td>\n",
       "      <td>X1</td>\n",
       "      <td>19</td>\n",
       "      <td>No</td>\n",
       "      <td>470454</td>\n",
       "      <td>No</td>\n",
       "      <td>0</td>\n",
       "    </tr>\n",
       "    <tr>\n",
       "      <th>4</th>\n",
       "      <td>TEASRWXV</td>\n",
       "      <td>Female</td>\n",
       "      <td>30</td>\n",
       "      <td>RG282</td>\n",
       "      <td>Salaried</td>\n",
       "      <td>X1</td>\n",
       "      <td>33</td>\n",
       "      <td>No</td>\n",
       "      <td>886787</td>\n",
       "      <td>No</td>\n",
       "      <td>0</td>\n",
       "    </tr>\n",
       "    <tr>\n",
       "      <th>...</th>\n",
       "      <td>...</td>\n",
       "      <td>...</td>\n",
       "      <td>...</td>\n",
       "      <td>...</td>\n",
       "      <td>...</td>\n",
       "      <td>...</td>\n",
       "      <td>...</td>\n",
       "      <td>...</td>\n",
       "      <td>...</td>\n",
       "      <td>...</td>\n",
       "      <td>...</td>\n",
       "    </tr>\n",
       "    <tr>\n",
       "      <th>245720</th>\n",
       "      <td>BPAWWXZN</td>\n",
       "      <td>Male</td>\n",
       "      <td>51</td>\n",
       "      <td>RG284</td>\n",
       "      <td>Self_Employed</td>\n",
       "      <td>X3</td>\n",
       "      <td>109</td>\n",
       "      <td>NaN</td>\n",
       "      <td>1925586</td>\n",
       "      <td>No</td>\n",
       "      <td>0</td>\n",
       "    </tr>\n",
       "    <tr>\n",
       "      <th>245721</th>\n",
       "      <td>HFNB7JY8</td>\n",
       "      <td>Male</td>\n",
       "      <td>27</td>\n",
       "      <td>RG268</td>\n",
       "      <td>Salaried</td>\n",
       "      <td>X1</td>\n",
       "      <td>15</td>\n",
       "      <td>No</td>\n",
       "      <td>862952</td>\n",
       "      <td>Yes</td>\n",
       "      <td>0</td>\n",
       "    </tr>\n",
       "    <tr>\n",
       "      <th>245722</th>\n",
       "      <td>GEHAUCWT</td>\n",
       "      <td>Female</td>\n",
       "      <td>26</td>\n",
       "      <td>RG281</td>\n",
       "      <td>Salaried</td>\n",
       "      <td>X1</td>\n",
       "      <td>13</td>\n",
       "      <td>No</td>\n",
       "      <td>670659</td>\n",
       "      <td>No</td>\n",
       "      <td>0</td>\n",
       "    </tr>\n",
       "    <tr>\n",
       "      <th>245723</th>\n",
       "      <td>GE7V8SAH</td>\n",
       "      <td>Female</td>\n",
       "      <td>28</td>\n",
       "      <td>RG273</td>\n",
       "      <td>Salaried</td>\n",
       "      <td>X1</td>\n",
       "      <td>31</td>\n",
       "      <td>No</td>\n",
       "      <td>407504</td>\n",
       "      <td>No</td>\n",
       "      <td>0</td>\n",
       "    </tr>\n",
       "    <tr>\n",
       "      <th>245724</th>\n",
       "      <td>BOCZSWLJ</td>\n",
       "      <td>Male</td>\n",
       "      <td>29</td>\n",
       "      <td>RG269</td>\n",
       "      <td>Salaried</td>\n",
       "      <td>X1</td>\n",
       "      <td>21</td>\n",
       "      <td>No</td>\n",
       "      <td>1129276</td>\n",
       "      <td>No</td>\n",
       "      <td>0</td>\n",
       "    </tr>\n",
       "  </tbody>\n",
       "</table>\n",
       "<p>245725 rows × 11 columns</p>\n",
       "</div>"
      ],
      "text/plain": [
       "              ID  Gender  Age Region_Code     Occupation Channel_Code  \\\n",
       "0       NNVBBKZB  Female   73       RG268          Other           X3   \n",
       "1       IDD62UNG  Female   30       RG277       Salaried           X1   \n",
       "2       HD3DSEMC  Female   56       RG268  Self_Employed           X3   \n",
       "3       BF3NC7KV    Male   34       RG270       Salaried           X1   \n",
       "4       TEASRWXV  Female   30       RG282       Salaried           X1   \n",
       "...          ...     ...  ...         ...            ...          ...   \n",
       "245720  BPAWWXZN    Male   51       RG284  Self_Employed           X3   \n",
       "245721  HFNB7JY8    Male   27       RG268       Salaried           X1   \n",
       "245722  GEHAUCWT  Female   26       RG281       Salaried           X1   \n",
       "245723  GE7V8SAH  Female   28       RG273       Salaried           X1   \n",
       "245724  BOCZSWLJ    Male   29       RG269       Salaried           X1   \n",
       "\n",
       "        Vintage Credit_Product  Avg_Account_Balance Is_Active  Is_Lead  \n",
       "0            43             No              1045696        No        0  \n",
       "1            32             No               581988        No        0  \n",
       "2            26             No              1484315       Yes        0  \n",
       "3            19             No               470454        No        0  \n",
       "4            33             No               886787        No        0  \n",
       "...         ...            ...                  ...       ...      ...  \n",
       "245720      109            NaN              1925586        No        0  \n",
       "245721       15             No               862952       Yes        0  \n",
       "245722       13             No               670659        No        0  \n",
       "245723       31             No               407504        No        0  \n",
       "245724       21             No              1129276        No        0  \n",
       "\n",
       "[245725 rows x 11 columns]"
      ]
     },
     "execution_count": 206,
     "metadata": {},
     "output_type": "execute_result"
    }
   ],
   "source": [
    "data"
   ]
  },
  {
   "cell_type": "code",
   "execution_count": null,
   "id": "50334980",
   "metadata": {
    "id": "50334980"
   },
   "outputs": [],
   "source": [
    "data=data.drop('ID',axis=1)"
   ]
  },
  {
   "cell_type": "code",
   "execution_count": null,
   "id": "aa36811e",
   "metadata": {
    "id": "aa36811e"
   },
   "outputs": [],
   "source": [
    "#FINDING AND HANDLING MISSING VALUES"
   ]
  },
  {
   "cell_type": "code",
   "execution_count": null,
   "id": "9777897d",
   "metadata": {
    "id": "9777897d",
    "outputId": "b5b584fc-de9e-48ef-ef8c-2ae81eb1579e"
   },
   "outputs": [
    {
     "data": {
      "text/plain": [
       "Gender                     0\n",
       "Age                        0\n",
       "Region_Code                0\n",
       "Occupation                 0\n",
       "Channel_Code               0\n",
       "Vintage                    0\n",
       "Credit_Product         29325\n",
       "Avg_Account_Balance        0\n",
       "Is_Active                  0\n",
       "Is_Lead                    0\n",
       "dtype: int64"
      ]
     },
     "execution_count": 209,
     "metadata": {},
     "output_type": "execute_result"
    }
   ],
   "source": [
    "data.isna().sum()"
   ]
  },
  {
   "cell_type": "code",
   "execution_count": null,
   "id": "44adc067",
   "metadata": {
    "id": "44adc067",
    "outputId": "f2b6f843-9ad5-4fe4-9ac2-46a3f54ae328"
   },
   "outputs": [
    {
     "name": "stdout",
     "output_type": "stream",
     "text": [
      "Yes    22690\n",
      "No     10623\n",
      "Name: Credit_Product, dtype: int64\n"
     ]
    }
   ],
   "source": [
    "# Assuming 'data' is the DataFrame that contains the data\n",
    "\n",
    "# Filter the rows where 'Lead' is equal to 1\n",
    "lead_1_data = data[data['Is_Lead'] == 1]\n",
    "\n",
    "# Get the value counts of 'Credit_Product' in the filtered data\n",
    "credit_product_counts = lead_1_data['Credit_Product'].value_counts()\n",
    "\n",
    "print(credit_product_counts)"
   ]
  },
  {
   "cell_type": "code",
   "execution_count": null,
   "id": "5a244638",
   "metadata": {
    "id": "5a244638",
    "outputId": "780ed3a0-f356-4796-a140-837713d9d703"
   },
   "outputs": [
    {
     "data": {
      "text/plain": [
       "24975"
      ]
     },
     "execution_count": 211,
     "metadata": {},
     "output_type": "execute_result"
    }
   ],
   "source": [
    "lead_1_data['Credit_Product'].isna().sum()"
   ]
  },
  {
   "cell_type": "code",
   "execution_count": null,
   "id": "a03263dd",
   "metadata": {
    "id": "a03263dd",
    "outputId": "68c39b50-fc76-4868-8b1e-b3898fe699fb"
   },
   "outputs": [
    {
     "name": "stdout",
     "output_type": "stream",
     "text": [
      "No     133734\n",
      "Yes     49353\n",
      "Name: Credit_Product, dtype: int64\n"
     ]
    }
   ],
   "source": [
    "# Assuming 'data' is the DataFrame that contains the data\n",
    "\n",
    "# Filter the rows where 'Lead' is equal to 0\n",
    "lead_0_data = data[data['Is_Lead'] == 0]\n",
    "\n",
    "# Get the value counts of 'Credit_Product' in the filtered data\n",
    "credit_product_counts = lead_0_data['Credit_Product'].value_counts()\n",
    "\n",
    "print(credit_product_counts)"
   ]
  },
  {
   "cell_type": "code",
   "execution_count": null,
   "id": "47a58fd6",
   "metadata": {
    "id": "47a58fd6",
    "outputId": "6ed6b071-791f-43b5-d8bf-b638eb5cd1f3"
   },
   "outputs": [
    {
     "data": {
      "text/plain": [
       "4350"
      ]
     },
     "execution_count": 213,
     "metadata": {},
     "output_type": "execute_result"
    }
   ],
   "source": [
    "lead_0_data['Credit_Product'].isna().sum()"
   ]
  },
  {
   "cell_type": "code",
   "execution_count": null,
   "id": "17dba1f4",
   "metadata": {
    "id": "17dba1f4"
   },
   "outputs": [],
   "source": [
    "# Assuming 'data' is the DataFrame that contains both  lead_1_data and lead_0_data\n",
    "\n",
    "# Fill missing values in 'Credit_Product' column with 'Yes' where Lead is 1\n",
    "data.loc[data['Is_Lead']==1,'Credit_Product']=data.loc[data['Is_Lead'] == 1, 'Credit_Product'].fillna('Yes')\n",
    "\n",
    "# Fill missing values in 'Credit_Product' column with 'No' where Lead is 0\n",
    "data.loc[data['Is_Lead']==0,'Credit_Product']=data.loc[data['Is_Lead'] == 0, 'Credit_Product'].fillna('No')\n"
   ]
  },
  {
   "cell_type": "code",
   "execution_count": null,
   "id": "f4b00de2",
   "metadata": {
    "id": "f4b00de2",
    "outputId": "baca03b2-24cd-4e40-ae79-4cd7519ad3da"
   },
   "outputs": [
    {
     "data": {
      "text/plain": [
       "Gender                 0\n",
       "Age                    0\n",
       "Region_Code            0\n",
       "Occupation             0\n",
       "Channel_Code           0\n",
       "Vintage                0\n",
       "Credit_Product         0\n",
       "Avg_Account_Balance    0\n",
       "Is_Active              0\n",
       "Is_Lead                0\n",
       "dtype: int64"
      ]
     },
     "execution_count": 215,
     "metadata": {},
     "output_type": "execute_result"
    }
   ],
   "source": [
    "data.isna().sum()"
   ]
  },
  {
   "cell_type": "code",
   "execution_count": null,
   "id": "8df6aeba",
   "metadata": {
    "id": "8df6aeba",
    "outputId": "7cdf9421-ba87-41c0-904e-1c8684c70387"
   },
   "outputs": [
    {
     "data": {
      "text/plain": [
       "No     148707\n",
       "Yes     97018\n",
       "Name: Credit_Product, dtype: int64"
      ]
     },
     "execution_count": 216,
     "metadata": {},
     "output_type": "execute_result"
    }
   ],
   "source": [
    "data['Credit_Product'].value_counts()"
   ]
  },
  {
   "cell_type": "code",
   "execution_count": null,
   "id": "31ee35b8",
   "metadata": {
    "id": "31ee35b8"
   },
   "outputs": [],
   "source": [
    "#Detection of Outliers:"
   ]
  },
  {
   "cell_type": "code",
   "execution_count": null,
   "id": "b9146ec9",
   "metadata": {
    "id": "b9146ec9",
    "outputId": "087e2d20-7a73-433b-84e1-60cf69c475ac"
   },
   "outputs": [
    {
     "data": {
      "text/plain": [
       "Text(0.5, 1.0, 'Box plot of Avg_Account_Balance')"
      ]
     },
     "execution_count": 218,
     "metadata": {},
     "output_type": "execute_result"
    },
    {
     "data": {
      "image/png": "[encoded data removed]",
      "text/plain": [
       "<Figure size 720x432 with 1 Axes>"
      ]
     },
     "metadata": {
      "needs_background": "light"
     },
     "output_type": "display_data"
    }
   ],
   "source": [
    "# avg account balance:\n",
    "plt.boxplot(data['Avg_Account_Balance'])\n",
    "plt.title('Box plot of Avg_Account_Balance')"
   ]
  },
  {
   "cell_type": "code",
   "execution_count": null,
   "id": "231518aa",
   "metadata": {
    "id": "231518aa"
   },
   "outputs": [],
   "source": [
    "q1 = np.percentile(data['Avg_Account_Balance'], 25)\n",
    "q2 = np.percentile(data['Avg_Account_Balance'], 50)\n",
    "q3 = np.percentile(data['Avg_Account_Balance'], 75)"
   ]
  },
  {
   "cell_type": "code",
   "execution_count": null,
   "id": "29c02753",
   "metadata": {
    "id": "29c02753"
   },
   "outputs": [],
   "source": [
    "iqr=q3-q1"
   ]
  },
  {
   "cell_type": "code",
   "execution_count": null,
   "id": "b7150d70",
   "metadata": {
    "id": "b7150d70"
   },
   "outputs": [],
   "source": [
    "low_limit = q1 - 1.5*iqr\n",
    "upr_limit = q3 + 1.5*iqr"
   ]
  },
  {
   "cell_type": "code",
   "execution_count": null,
   "id": "6a239fea",
   "metadata": {
    "id": "6a239fea",
    "outputId": "d4d962a0-069f-4cb0-e09a-9d207e4d370c"
   },
   "outputs": [
    {
     "data": {
      "text/plain": [
       "-539224.0"
      ]
     },
     "execution_count": 222,
     "metadata": {},
     "output_type": "execute_result"
    }
   ],
   "source": [
    "low_limit"
   ]
  },
  {
   "cell_type": "code",
   "execution_count": null,
   "id": "02b59569",
   "metadata": {
    "id": "02b59569",
    "outputId": "f00824b6-4269-4ed7-caf5-518cdc71dea3"
   },
   "outputs": [
    {
     "data": {
      "text/plain": [
       "2510200.0"
      ]
     },
     "execution_count": 223,
     "metadata": {},
     "output_type": "execute_result"
    }
   ],
   "source": [
    "upr_limit"
   ]
  },
  {
   "cell_type": "code",
   "execution_count": null,
   "id": "86f8a1c5",
   "metadata": {
    "id": "86f8a1c5"
   },
   "outputs": [],
   "source": [
    "outlier=[]\n",
    "for x in data['Avg_Account_Balance']:\n",
    "    if x>upr_limit or x<low_limit:\n",
    "        outlier.append(x)"
   ]
  },
  {
   "cell_type": "code",
   "execution_count": null,
   "id": "98dafdd1",
   "metadata": {
    "id": "98dafdd1",
    "outputId": "b2aa15c7-6c56-4d4c-eecf-31c935501d47"
   },
   "outputs": [
    {
     "data": {
      "text/plain": [
       "[2521592,\n",
       " 2824468,\n",
       " 6278683,\n",
       " 5878049,\n",
       " 2952343,\n",
       " 5950700,\n",
       " 2601656,\n",
       " 3949713,\n",
       " 3123134,\n",
       " 2729727,\n",
       " 2555270,\n",
       " 3850567,\n",
       " 2944493,\n",
       " 2933466,\n",
       " 3831583,\n",
       " 3540669,\n",
       " 2561687,\n",
       " 2872448,\n",
       " 3800193,\n",
       " 3051160,\n",
       " 3278386,\n",
       " 4125595,\n",
       " 3005209,\n",
       " 7880380,\n",
       " 3195126,\n",
       " 2768985,\n",
       " 3449426,\n",
       " 3646543,\n",
       " 5857499,\n",
       " 5182372,\n",
       " 3969266,\n",
       " 5273143,\n",
       " 2983564,\n",
       " 5752728,\n",
       " 2772937,\n",
       " 2938246,\n",
       " 2544189,\n",
       " 2790799,\n",
       " 3768268,\n",
       " 3929741,\n",
       " 3287900,\n",
       " 2919013,\n",
       " 6588376,\n",
       " 2563600,\n",
       " 2826195,\n",
       " 4067059,\n",
       " 2741226,\n",
       " 5420269,\n",
       " 3459082,\n",
       " 3879456,\n",
       " 3578868,\n",
       " 6722899,\n",
       " 2662399,\n",
       " 2845178,\n",
       " 3407498,\n",
       " 8256124,\n",
       " 3441282,\n",
       " 2612888,\n",
       " 2777885,\n",
       " 2772252,\n",
       " 3413399,\n",
       " 3798066,\n",
       " 2618664,\n",
       " 4425329,\n",
       " 2756970,\n",
       " 4419980,\n",
       " 4793246,\n",
       " 3148143,\n",
       " 3116121,\n",
       " 2862943,\n",
       " 2602546,\n",
       " 3440188,\n",
       " 2727333,\n",
       " 5026275,\n",
       " 4948862,\n",
       " 4818620,\n",
       " 4210198,\n",
       " 4022185,\n",
       " 2818256,\n",
       " 2857985,\n",
       " 3649275,\n",
       " 2708741,\n",
       " 2720703,\n",
       " 3907100,\n",
       " 2730991,\n",
       " 4597535,\n",
       " 2689143,\n",
       " 2629086,\n",
       " 3820574,\n",
       " 3296827,\n",
       " 3033440,\n",
       " 3940715,\n",
       " 2574218,\n",
       " 2696486,\n",
       " 7414269,\n",
       " 2948374,\n",
       " 2724405,\n",
       " 2934668,\n",
       " 4433597,\n",
       " 2984988,\n",
       " 5377575,\n",
       " 2631204,\n",
       " 2849548,\n",
       " 2634408,\n",
       " 2630857,\n",
       " 4748675,\n",
       " 3641052,\n",
       " 2912177,\n",
       " 3159277,\n",
       " 2642258,\n",
       " 2745561,\n",
       " 3885490,\n",
       " 3121728,\n",
       " 2920526,\n",
       " 3867014,\n",
       " 3347103,\n",
       " 3244103,\n",
       " 7138734,\n",
       " 3724124,\n",
       " 2577626,\n",
       " 3158396,\n",
       " 4239399,\n",
       " 3865599,\n",
       " 3559555,\n",
       " 2607691,\n",
       " 6400239,\n",
       " 2663271,\n",
       " 3131020,\n",
       " 2815657,\n",
       " 3967450,\n",
       " 2597135,\n",
       " 2751096,\n",
       " 3320064,\n",
       " 3734190,\n",
       " 2566964,\n",
       " 4182101,\n",
       " 2562060,\n",
       " 4317425,\n",
       " 3392573,\n",
       " 4241428,\n",
       " 2546290,\n",
       " 3880667,\n",
       " 3911692,\n",
       " 2799913,\n",
       " 2877289,\n",
       " 3554490,\n",
       " 2812853,\n",
       " 4370345,\n",
       " 3492030,\n",
       " 5159792,\n",
       " 3365437,\n",
       " 5078598,\n",
       " 4388420,\n",
       " 2784810,\n",
       " 2929684,\n",
       " 4070468,\n",
       " 3121327,\n",
       " 2802209,\n",
       " 5617083,\n",
       " 3236636,\n",
       " 3178572,\n",
       " 3036947,\n",
       " 3084748,\n",
       " 5163352,\n",
       " 2765594,\n",
       " 4386916,\n",
       " 2618789,\n",
       " 3098704,\n",
       " 3227157,\n",
       " 2511989,\n",
       " 3962475,\n",
       " 3030129,\n",
       " 4581746,\n",
       " 4444651,\n",
       " 3486993,\n",
       " 2911118,\n",
       " 2631489,\n",
       " 3442066,\n",
       " 2912952,\n",
       " 3533958,\n",
       " 2747189,\n",
       " 4614133,\n",
       " 2858154,\n",
       " 2605421,\n",
       " 3755853,\n",
       " 2675251,\n",
       " 2840666,\n",
       " 3161119,\n",
       " 3347993,\n",
       " 3477505,\n",
       " 3462251,\n",
       " 2603597,\n",
       " 4056353,\n",
       " 2564810,\n",
       " 7148942,\n",
       " 2726808,\n",
       " 2742276,\n",
       " 3765064,\n",
       " 4894270,\n",
       " 2846068,\n",
       " 2646032,\n",
       " 3141833,\n",
       " 3142492,\n",
       " 3251259,\n",
       " 2909000,\n",
       " 3495119,\n",
       " 2515754,\n",
       " 2634480,\n",
       " 4291161,\n",
       " 2934668,\n",
       " 2824317,\n",
       " 3644078,\n",
       " 2653321,\n",
       " 2569207,\n",
       " 3528022,\n",
       " 7222955,\n",
       " 2959570,\n",
       " 2748337,\n",
       " 7055964,\n",
       " 2830698,\n",
       " 4718628,\n",
       " 2677858,\n",
       " 2595987,\n",
       " 3825042,\n",
       " 2778758,\n",
       " 3949241,\n",
       " 3237909,\n",
       " 3415197,\n",
       " 3961203,\n",
       " 3304205,\n",
       " 4725615,\n",
       " 2845650,\n",
       " 3631200,\n",
       " 3070856,\n",
       " 3172396,\n",
       " 2663672,\n",
       " 2699450,\n",
       " 2636776,\n",
       " 3746802,\n",
       " 3499738,\n",
       " 2658510,\n",
       " 3775139,\n",
       " 2810308,\n",
       " 2774477,\n",
       " 3859298,\n",
       " 2927726,\n",
       " 3525592,\n",
       " 2516519,\n",
       " 4055329,\n",
       " 3058485,\n",
       " 2683964,\n",
       " 2913655,\n",
       " 3209749,\n",
       " 2966103,\n",
       " 5276409,\n",
       " 4083417,\n",
       " 2901462,\n",
       " 2777503,\n",
       " 3410444,\n",
       " 3876154,\n",
       " 5164652,\n",
       " 3228056,\n",
       " 2662381,\n",
       " 2965755,\n",
       " 7245881,\n",
       " 3143257,\n",
       " 2574707,\n",
       " 4340886,\n",
       " 3637599,\n",
       " 2845837,\n",
       " 2802360,\n",
       " 3202851,\n",
       " 7009613,\n",
       " 2612167,\n",
       " 4022185,\n",
       " 4703534,\n",
       " 3383637,\n",
       " 2600962,\n",
       " 3195082,\n",
       " 2869582,\n",
       " 3195144,\n",
       " 2647349,\n",
       " 4565869,\n",
       " 2851088,\n",
       " 4126262,\n",
       " 6034386,\n",
       " 3698742,\n",
       " 2517089,\n",
       " 2698836,\n",
       " 3876421,\n",
       " 2519937,\n",
       " 2516519,\n",
       " 4180374,\n",
       " 4782281,\n",
       " 2764678,\n",
       " 3158681,\n",
       " 3817886,\n",
       " 2641137,\n",
       " 2844867,\n",
       " 4236987,\n",
       " 3107372,\n",
       " 2806668,\n",
       " 3841836,\n",
       " 2891387,\n",
       " 4465067,\n",
       " 3403947,\n",
       " 7663879,\n",
       " 3041201,\n",
       " 2631204,\n",
       " 5525467,\n",
       " 2979960,\n",
       " 7575083,\n",
       " 2868069,\n",
       " 2896531,\n",
       " 2759071,\n",
       " 2783982,\n",
       " 3367813,\n",
       " 4128772,\n",
       " 2565861,\n",
       " 3280095,\n",
       " 2716306,\n",
       " 3448536,\n",
       " 7830985,\n",
       " 3361360,\n",
       " 3009695,\n",
       " 3758505,\n",
       " 2561028,\n",
       " 5864966,\n",
       " 5403910,\n",
       " 6633677,\n",
       " 2651977,\n",
       " 2650046,\n",
       " 2578116,\n",
       " 3680639,\n",
       " 3800086,\n",
       " 2588823,\n",
       " 3768268,\n",
       " 2642970,\n",
       " 2611046,\n",
       " 2547785,\n",
       " 8588270,\n",
       " 4287486,\n",
       " 4584256,\n",
       " 2860842,\n",
       " 6473263,\n",
       " 3625263,\n",
       " 2834810,\n",
       " 4671690,\n",
       " 3423411,\n",
       " 4152659,\n",
       " 3651447,\n",
       " 4545514,\n",
       " 2836091,\n",
       " 3361743,\n",
       " 3605986,\n",
       " 2830413,\n",
       " 2769973,\n",
       " 3678877,\n",
       " 3419477,\n",
       " 3778334,\n",
       " 2572073,\n",
       " 2549013,\n",
       " 3149095,\n",
       " 2910558,\n",
       " 3646392,\n",
       " 7267384,\n",
       " 7044723,\n",
       " 5731083,\n",
       " 4153167,\n",
       " 2558643,\n",
       " 5238646,\n",
       " 6528648,\n",
       " 3909022,\n",
       " 4144952,\n",
       " 7854226,\n",
       " 3869826,\n",
       " 4969537,\n",
       " 2579620,\n",
       " 3245491,\n",
       " 4434905,\n",
       " 6103415,\n",
       " 2625642,\n",
       " 3593108,\n",
       " 3600299,\n",
       " 3035709,\n",
       " 3385248,\n",
       " 3044832,\n",
       " 4211302,\n",
       " 4291580,\n",
       " 2941948,\n",
       " 2743469,\n",
       " 6722917,\n",
       " 4507698,\n",
       " 4038846,\n",
       " 3471720,\n",
       " 3912101,\n",
       " 2667837,\n",
       " 3429668,\n",
       " 7142107,\n",
       " 3822594,\n",
       " 3100332,\n",
       " 5840927,\n",
       " 5262276,\n",
       " 5841604,\n",
       " 2658091,\n",
       " 2847127,\n",
       " 3476420,\n",
       " 3243765,\n",
       " 7699416,\n",
       " 4068670,\n",
       " 2670925,\n",
       " 3723466,\n",
       " 4954051,\n",
       " 2824085,\n",
       " 4974494,\n",
       " 3019832,\n",
       " 3024531,\n",
       " 5376561,\n",
       " 3995076,\n",
       " 3938712,\n",
       " 4284922,\n",
       " 2560387,\n",
       " 3307925,\n",
       " 2724610,\n",
       " 3403342,\n",
       " 2745828,\n",
       " 2696290,\n",
       " 3177575,\n",
       " 3150074,\n",
       " 2859436,\n",
       " 2707068,\n",
       " 2541119,\n",
       " 2795854,\n",
       " 2825109,\n",
       " 4721369,\n",
       " 4126262,\n",
       " 3714628,\n",
       " 3462518,\n",
       " 2675411,\n",
       " 3357854,\n",
       " 3484777,\n",
       " 2663147,\n",
       " 7220231,\n",
       " 2923525,\n",
       " 3123508,\n",
       " 4018367,\n",
       " 3029916,\n",
       " 2803464,\n",
       " 2832985,\n",
       " 3016352,\n",
       " 2868719,\n",
       " 3213006,\n",
       " 3825068,\n",
       " 3014020,\n",
       " 3034348,\n",
       " 4771601,\n",
       " 2975866,\n",
       " 3280451,\n",
       " 3243035,\n",
       " 4184094,\n",
       " 3307934,\n",
       " 3927472,\n",
       " 5896436,\n",
       " 2539445,\n",
       " 2590807,\n",
       " 4068065,\n",
       " 4020922,\n",
       " 5707863,\n",
       " 4692222,\n",
       " 2565976,\n",
       " 3209678,\n",
       " 3066948,\n",
       " 4281487,\n",
       " 2732869,\n",
       " 3504410,\n",
       " 2687452,\n",
       " 4723648,\n",
       " 2697207,\n",
       " 5172599,\n",
       " 4086052,\n",
       " 3614654,\n",
       " 2668513,\n",
       " 3557837,\n",
       " 2800135,\n",
       " 4459781,\n",
       " 3621436,\n",
       " 5069173,\n",
       " 3071692,\n",
       " 2774450,\n",
       " 2713093,\n",
       " 3139119,\n",
       " 3031526,\n",
       " 4108889,\n",
       " 2844101,\n",
       " 2676746,\n",
       " 3103180,\n",
       " 3836300,\n",
       " 3791061,\n",
       " 8741290,\n",
       " 3311351,\n",
       " 2855734,\n",
       " 3405469,\n",
       " 3332097,\n",
       " 3183894,\n",
       " 2985149,\n",
       " 4096572,\n",
       " 3999677,\n",
       " 4329761,\n",
       " 3586103,\n",
       " 2548746,\n",
       " 2726470,\n",
       " 3813712,\n",
       " 6310126,\n",
       " 2786287,\n",
       " 3497993,\n",
       " 3570555,\n",
       " 7406152,\n",
       " 3373402,\n",
       " 3994515,\n",
       " 3138647,\n",
       " 3824668,\n",
       " 3270447,\n",
       " 3520172,\n",
       " 2825687,\n",
       " 2633607,\n",
       " 3335132,\n",
       " 2605546,\n",
       " 3193898,\n",
       " 3884583,\n",
       " 7989209,\n",
       " 2675073,\n",
       " 2798765,\n",
       " 3203314,\n",
       " 2719172,\n",
       " 6193038,\n",
       " 2882567,\n",
       " 2805903,\n",
       " 3143399,\n",
       " 3620662,\n",
       " 3105174,\n",
       " 3447379,\n",
       " 6330481,\n",
       " 3385809,\n",
       " 3635383,\n",
       " 3315588,\n",
       " 2985220,\n",
       " 8781245,\n",
       " 4328087,\n",
       " 3053616,\n",
       " 5290062,\n",
       " 3953477,\n",
       " 3458184,\n",
       " 4552839,\n",
       " 2627787,\n",
       " 2732985,\n",
       " 2594581,\n",
       " 2878349,\n",
       " 2758697,\n",
       " 2577235,\n",
       " 2963619,\n",
       " 2516368,\n",
       " 3633069,\n",
       " 4366197,\n",
       " 5308449,\n",
       " 3943954,\n",
       " 4248361,\n",
       " 3405496,\n",
       " 6249339,\n",
       " 2904212,\n",
       " 3818740,\n",
       " 3874739,\n",
       " 2907986,\n",
       " 2568201,\n",
       " 6167077,\n",
       " 6787665,\n",
       " 7005127,\n",
       " 3934574,\n",
       " 3430060,\n",
       " 7285130,\n",
       " 2984125,\n",
       " 4028451,\n",
       " 2615994,\n",
       " 5547414,\n",
       " 3277282,\n",
       " 4022185,\n",
       " 2630243,\n",
       " 5462820,\n",
       " 3113736,\n",
       " 4303381,\n",
       " 6201706,\n",
       " 4824698,\n",
       " 2516492,\n",
       " 3557125,\n",
       " 5102681,\n",
       " 3235390,\n",
       " 2743798,\n",
       " 4022185,\n",
       " 2594421,\n",
       " 2789589,\n",
       " 2544189,\n",
       " 2933778,\n",
       " 3016690,\n",
       " 3020241,\n",
       " 2758973,\n",
       " 3861407,\n",
       " 2527466,\n",
       " 5538274,\n",
       " 2856214,\n",
       " 2932220,\n",
       " 5913320,\n",
       " 3467208,\n",
       " 3437108,\n",
       " 2826666,\n",
       " 3329961,\n",
       " 3478734,\n",
       " 8348854,\n",
       " 2666689,\n",
       " 2901088,\n",
       " 5338059,\n",
       " 4085731,\n",
       " 2896798,\n",
       " 3774276,\n",
       " 3026649,\n",
       " 2833599,\n",
       " 4828623,\n",
       " 3028242,\n",
       " 3057408,\n",
       " 3753601,\n",
       " 2536375,\n",
       " 4046491,\n",
       " 4148103,\n",
       " 6136283,\n",
       " 2537559,\n",
       " 5256660,\n",
       " 2713218,\n",
       " 3596490,\n",
       " 3837128,\n",
       " 3198277,\n",
       " 2841956,\n",
       " 4670488,\n",
       " 3206696,\n",
       " 8373358,\n",
       " 3568784,\n",
       " 2753588,\n",
       " 3990742,\n",
       " 4662754,\n",
       " 4801283,\n",
       " 5272253,\n",
       " 3120366,\n",
       " 2548986,\n",
       " 3347485,\n",
       " 3859253,\n",
       " 3953477,\n",
       " 5504489,\n",
       " 3896161,\n",
       " 3393454,\n",
       " 2634204,\n",
       " 2690728,\n",
       " 3092972,\n",
       " 2530278,\n",
       " 3134526,\n",
       " 3107114,\n",
       " 4429387,\n",
       " 2679549,\n",
       " 3769862,\n",
       " 2703321,\n",
       " 4164265,\n",
       " 2988433,\n",
       " 3446596,\n",
       " 2513137,\n",
       " 3087614,\n",
       " 2873071,\n",
       " 2945214,\n",
       " 4158800,\n",
       " 2775999,\n",
       " 3078625,\n",
       " 4669616,\n",
       " 3330202,\n",
       " 3491016,\n",
       " 3462028,\n",
       " 2971024,\n",
       " 4468369,\n",
       " 2834027,\n",
       " 3325547,\n",
       " 2627627,\n",
       " 2835103,\n",
       " 3147502,\n",
       " 2904052,\n",
       " 4687656,\n",
       " 3664236,\n",
       " 3767370,\n",
       " 4041890,\n",
       " 4417862,\n",
       " 4282021,\n",
       " 2937587,\n",
       " 2917642,\n",
       " 3861247,\n",
       " 2531765,\n",
       " 4188340,\n",
       " 3632944,\n",
       " 3855942,\n",
       " 4099758,\n",
       " 5036839,\n",
       " 6067530,\n",
       " 2925821,\n",
       " 3514049,\n",
       " 6721751,\n",
       " 3772959,\n",
       " 5483067,\n",
       " 7414269,\n",
       " 3032416,\n",
       " 2976329,\n",
       " 2842633,\n",
       " 2898285,\n",
       " 2696611,\n",
       " 4235999,\n",
       " 3557890,\n",
       " 2609907,\n",
       " 3962564,\n",
       " 4126262,\n",
       " 2549983,\n",
       " 4697856,\n",
       " 4511445,\n",
       " 3057328,\n",
       " 4126262,\n",
       " 3189172,\n",
       " 2634355,\n",
       " 3304187,\n",
       " 3153982,\n",
       " 5036296,\n",
       " 2659346,\n",
       " 5739076,\n",
       " 2759783,\n",
       " 2511820,\n",
       " 7273213,\n",
       " 2969823,\n",
       " 2831535,\n",
       " 2649538,\n",
       " 2804932,\n",
       " 5374362,\n",
       " 2806383,\n",
       " 5836976,\n",
       " 6878729,\n",
       " 2644750,\n",
       " 2909383,\n",
       " 2883884,\n",
       " 2526345,\n",
       " 3011617,\n",
       " 2722305,\n",
       " 3451998,\n",
       " 2589134,\n",
       " 2699014,\n",
       " 4200942,\n",
       " 4022185,\n",
       " 3084980,\n",
       " 5250181,\n",
       " 3324737,\n",
       " 3307275,\n",
       " 3533308,\n",
       " 2568540,\n",
       " 4511347,\n",
       " 2742535,\n",
       " 2694670,\n",
       " 4238883,\n",
       " 5015568,\n",
       " 5844478,\n",
       " 2794430,\n",
       " 3017358,\n",
       " 3479463,\n",
       " 2554958,\n",
       " 2541323,\n",
       " 4022185,\n",
       " 2570578,\n",
       " 2518441,\n",
       " 2708136,\n",
       " 2698168,\n",
       " 2514445,\n",
       " 4171928,\n",
       " 3169165,\n",
       " 3697344,\n",
       " 2808840,\n",
       " 5178393,\n",
       " 2673533,\n",
       " 4394864,\n",
       " 2806330,\n",
       " 2762106,\n",
       " 2930511,\n",
       " 2521610,\n",
       " 3321747,\n",
       " 6068910,\n",
       " 2511962,\n",
       " 3447192,\n",
       " 4691109,\n",
       " 3397254,\n",
       " 2913851,\n",
       " 3038077,\n",
       " 3480167,\n",
       " 4007136,\n",
       " 2528151,\n",
       " 2652778,\n",
       " 2945357,\n",
       " 2890604,\n",
       " 3426179,\n",
       " 3431092,\n",
       " 4022185,\n",
       " 4471858,\n",
       " 8119837,\n",
       " 2772528,\n",
       " 2876088,\n",
       " 2742348,\n",
       " 2553143,\n",
       " 4085607,\n",
       " 2525072,\n",
       " 2692125,\n",
       " 3393570,\n",
       " 3031402,\n",
       " 2558705,\n",
       " 3611005,\n",
       " 2603098,\n",
       " 2609889,\n",
       " 3287250,\n",
       " 4561356,\n",
       " 3195082,\n",
       " 2993328,\n",
       " 3193756,\n",
       " 2722892,\n",
       " 4593441,\n",
       " 4022185,\n",
       " 3190294,\n",
       " 3850567,\n",
       " 2598346,\n",
       " 3343578,\n",
       " 4051707,\n",
       " 2754309,\n",
       " 3015328,\n",
       " 2907808,\n",
       " 2534577,\n",
       " 3479463,\n",
       " 2912177,\n",
       " 4465236,\n",
       " 3729464,\n",
       " 2572073,\n",
       " 3015951,\n",
       " 3344913,\n",
       " 2567365,\n",
       " 3125715,\n",
       " 2703722,\n",
       " 3185541,\n",
       " 3794159,\n",
       " 2852823,\n",
       " 3327879,\n",
       " 2638583,\n",
       " 2667063,\n",
       " 2736251,\n",
       " 3583469,\n",
       " 3818340,\n",
       " 4901586,\n",
       " 3605363,\n",
       " 2571806,\n",
       " 2639384,\n",
       " 2757220,\n",
       " 2546290,\n",
       " 2595337,\n",
       " 3242910,\n",
       " 2755974,\n",
       " 2672162,\n",
       " 2645284,\n",
       " 3157328,\n",
       " 3532935,\n",
       " 2746691,\n",
       " 2979444,\n",
       " 2752298,\n",
       " 6141818,\n",
       " 4089042,\n",
       " 4170192,\n",
       " 2647536,\n",
       " 4434905,\n",
       " 2975750,\n",
       " 5048195,\n",
       " 2580127,\n",
       " 2662043,\n",
       " 2598319,\n",
       " 2938157,\n",
       " 3479463,\n",
       " 3764121,\n",
       " 2765123,\n",
       " 2629353,\n",
       " 2525561,\n",
       " 3353956,\n",
       " 4745951,\n",
       " 2994591,\n",
       " 2799601,\n",
       " 2625375,\n",
       " 3928833,\n",
       " 2790488,\n",
       " 2961733,\n",
       " 4449216,\n",
       " 3481947,\n",
       " 3043524,\n",
       " 2858688,\n",
       " 3647362,\n",
       " 2988895,\n",
       " 3115453,\n",
       " 3353075,\n",
       " 2549618,\n",
       " 4276343,\n",
       " 2877192,\n",
       " 3318062,\n",
       " 3232800,\n",
       " 3139946,\n",
       " 3397939,\n",
       " 2937062,\n",
       " 7089677,\n",
       " 2821068,\n",
       " 3379347,\n",
       " 4558330,\n",
       " 3326650,\n",
       " 2639499,\n",
       " 3686362,\n",
       " 7650075,\n",
       " 3264315,\n",
       " 2543869,\n",
       " 2520346,\n",
       " 5370393,\n",
       " 2649627,\n",
       " 3712839,\n",
       " 3424034,\n",
       " 4110945,\n",
       " 2571512,\n",
       " 3422379,\n",
       " 3289742,\n",
       " 2640870,\n",
       " 3364716,\n",
       " 4383267,\n",
       " 2713289,\n",
       " 2630430,\n",
       " 4865167,\n",
       " 3130859,\n",
       " 2589383,\n",
       " 4014122,\n",
       " 2800215,\n",
       " 2513137,\n",
       " 3656102,\n",
       " 7136215,\n",
       " 2824121,\n",
       " 6572801,\n",
       " 3677462,\n",
       " 8984996,\n",
       " 2688912,\n",
       " 4649413,\n",
       " 3336440,\n",
       " 2799913,\n",
       " 2804078,\n",
       " 3545145,\n",
       " 3914077,\n",
       " 4229911,\n",
       " 7837001,\n",
       " 2558928,\n",
       " 2779140,\n",
       " 4534656,\n",
       " 4013588,\n",
       " 4081468,\n",
       " 4843380,\n",
       " 7171548,\n",
       " 2720979,\n",
       " 2815390,\n",
       " 4074918,\n",
       " 2931829,\n",
       " 4465405,\n",
       " 2996113,\n",
       " 3056544,\n",
       " 2609515,\n",
       " 3001320,\n",
       " 3257471,\n",
       " 3807420,\n",
       " 2521788,\n",
       " 3437286,\n",
       " 2953429,\n",
       " 3549622,\n",
       " 3269237,\n",
       " 3644087,\n",
       " 3143070,\n",
       " 3239359,\n",
       " 3391211,\n",
       " 3155566,\n",
       " 4916511,\n",
       " 2512594,\n",
       " 2977067,\n",
       " 3626625,\n",
       " 3226000,\n",
       " 2900625,\n",
       " 4521547,\n",
       " 2587132,\n",
       " 7777345,\n",
       " 2549209,\n",
       " 2842846,\n",
       " 2590149,\n",
       " 6054358,\n",
       " 2513600,\n",
       " 2548212,\n",
       " ...]"
      ]
     },
     "execution_count": 225,
     "metadata": {},
     "output_type": "execute_result"
    }
   ],
   "source": [
    "outlier"
   ]
  },
  {
   "cell_type": "code",
   "execution_count": null,
   "id": "03f55aca",
   "metadata": {
    "id": "03f55aca"
   },
   "outputs": [],
   "source": [
    "ind1 = data['Avg_Account_Balance']>upr_limit\n",
    "ind2= data['Avg_Account_Balance']<low_limit"
   ]
  },
  {
   "cell_type": "code",
   "execution_count": null,
   "id": "aca8fda8",
   "metadata": {
    "id": "aca8fda8",
    "outputId": "0813517c-3f99-4219-c0f5-c5746e99d055"
   },
   "outputs": [
    {
     "data": {
      "text/plain": [
       "Int64Index([    35,     71,    113,    184,    205,    211,    214,    218,\n",
       "               240,    262,\n",
       "            ...\n",
       "            245554, 245560, 245601, 245610, 245629, 245638, 245653, 245661,\n",
       "            245676, 245701],\n",
       "           dtype='int64', length=14612)"
      ]
     },
     "execution_count": 227,
     "metadata": {},
     "output_type": "execute_result"
    }
   ],
   "source": [
    "data.loc[ind1].index"
   ]
  },
  {
   "cell_type": "code",
   "execution_count": null,
   "id": "1d4da4b0",
   "metadata": {
    "id": "1d4da4b0",
    "outputId": "f6503c60-640d-4de7-cf59-01ef9605a9de"
   },
   "outputs": [
    {
     "data": {
      "text/plain": [
       "Int64Index([], dtype='int64')"
      ]
     },
     "execution_count": 228,
     "metadata": {},
     "output_type": "execute_result"
    }
   ],
   "source": [
    "data.loc[ind2].index #no low outliers"
   ]
  },
  {
   "cell_type": "code",
   "execution_count": null,
   "id": "74ddbcc2",
   "metadata": {
    "id": "74ddbcc2",
    "outputId": "026aed77-c2d4-42f3-e7bf-319b8a7f6b12"
   },
   "outputs": [
    {
     "data": {
      "text/plain": [
       "35        2521592\n",
       "71        2824468\n",
       "113       6278683\n",
       "184       5878049\n",
       "205       2952343\n",
       "           ...   \n",
       "245638    5396737\n",
       "245653    6900312\n",
       "245661    3566719\n",
       "245676    2769973\n",
       "245701    9491986\n",
       "Name: Avg_Account_Balance, Length: 14612, dtype: int64"
      ]
     },
     "execution_count": 229,
     "metadata": {},
     "output_type": "execute_result"
    }
   ],
   "source": [
    "data[ind1]['Avg_Account_Balance']"
   ]
  },
  {
   "cell_type": "code",
   "execution_count": null,
   "id": "7de21310",
   "metadata": {
    "id": "7de21310"
   },
   "outputs": [],
   "source": [
    "#ENCODING"
   ]
  },
  {
   "cell_type": "code",
   "execution_count": null,
   "id": "286dbd26",
   "metadata": {
    "id": "286dbd26"
   },
   "outputs": [],
   "source": [
    "data['Region_Code'] = data['Region_Code'].str.replace('RG', '').astype(int)\n",
    "data['Channel_Code'] = data['Channel_Code'].str.replace('X', '').astype(int)"
   ]
  },
  {
   "cell_type": "code",
   "execution_count": null,
   "id": "56b39e88",
   "metadata": {
    "id": "56b39e88",
    "outputId": "ec25d2e1-ae35-42b8-cbc7-4970d6714fbf"
   },
   "outputs": [
    {
     "data": {
      "text/html": [
       "<div>\n",
       "<style scoped>\n",
       "    .dataframe tbody tr th:only-of-type {\n",
       "        vertical-align: middle;\n",
       "    }\n",
       "\n",
       "    .dataframe tbody tr th {\n",
       "        vertical-align: top;\n",
       "    }\n",
       "\n",
       "    .dataframe thead th {\n",
       "        text-align: right;\n",
       "    }\n",
       "</style>\n",
       "<table border=\"1\" class=\"dataframe\">\n",
       "  <thead>\n",
       "    <tr style=\"text-align: right;\">\n",
       "      <th></th>\n",
       "      <th>Gender</th>\n",
       "      <th>Age</th>\n",
       "      <th>Region_Code</th>\n",
       "      <th>Occupation</th>\n",
       "      <th>Channel_Code</th>\n",
       "      <th>Vintage</th>\n",
       "      <th>Credit_Product</th>\n",
       "      <th>Avg_Account_Balance</th>\n",
       "      <th>Is_Active</th>\n",
       "      <th>Is_Lead</th>\n",
       "    </tr>\n",
       "  </thead>\n",
       "  <tbody>\n",
       "    <tr>\n",
       "      <th>0</th>\n",
       "      <td>Female</td>\n",
       "      <td>73</td>\n",
       "      <td>268</td>\n",
       "      <td>Other</td>\n",
       "      <td>3</td>\n",
       "      <td>43</td>\n",
       "      <td>No</td>\n",
       "      <td>1045696</td>\n",
       "      <td>No</td>\n",
       "      <td>0</td>\n",
       "    </tr>\n",
       "    <tr>\n",
       "      <th>1</th>\n",
       "      <td>Female</td>\n",
       "      <td>30</td>\n",
       "      <td>277</td>\n",
       "      <td>Salaried</td>\n",
       "      <td>1</td>\n",
       "      <td>32</td>\n",
       "      <td>No</td>\n",
       "      <td>581988</td>\n",
       "      <td>No</td>\n",
       "      <td>0</td>\n",
       "    </tr>\n",
       "    <tr>\n",
       "      <th>2</th>\n",
       "      <td>Female</td>\n",
       "      <td>56</td>\n",
       "      <td>268</td>\n",
       "      <td>Self_Employed</td>\n",
       "      <td>3</td>\n",
       "      <td>26</td>\n",
       "      <td>No</td>\n",
       "      <td>1484315</td>\n",
       "      <td>Yes</td>\n",
       "      <td>0</td>\n",
       "    </tr>\n",
       "    <tr>\n",
       "      <th>3</th>\n",
       "      <td>Male</td>\n",
       "      <td>34</td>\n",
       "      <td>270</td>\n",
       "      <td>Salaried</td>\n",
       "      <td>1</td>\n",
       "      <td>19</td>\n",
       "      <td>No</td>\n",
       "      <td>470454</td>\n",
       "      <td>No</td>\n",
       "      <td>0</td>\n",
       "    </tr>\n",
       "    <tr>\n",
       "      <th>4</th>\n",
       "      <td>Female</td>\n",
       "      <td>30</td>\n",
       "      <td>282</td>\n",
       "      <td>Salaried</td>\n",
       "      <td>1</td>\n",
       "      <td>33</td>\n",
       "      <td>No</td>\n",
       "      <td>886787</td>\n",
       "      <td>No</td>\n",
       "      <td>0</td>\n",
       "    </tr>\n",
       "    <tr>\n",
       "      <th>...</th>\n",
       "      <td>...</td>\n",
       "      <td>...</td>\n",
       "      <td>...</td>\n",
       "      <td>...</td>\n",
       "      <td>...</td>\n",
       "      <td>...</td>\n",
       "      <td>...</td>\n",
       "      <td>...</td>\n",
       "      <td>...</td>\n",
       "      <td>...</td>\n",
       "    </tr>\n",
       "    <tr>\n",
       "      <th>245720</th>\n",
       "      <td>Male</td>\n",
       "      <td>51</td>\n",
       "      <td>284</td>\n",
       "      <td>Self_Employed</td>\n",
       "      <td>3</td>\n",
       "      <td>109</td>\n",
       "      <td>No</td>\n",
       "      <td>1925586</td>\n",
       "      <td>No</td>\n",
       "      <td>0</td>\n",
       "    </tr>\n",
       "    <tr>\n",
       "      <th>245721</th>\n",
       "      <td>Male</td>\n",
       "      <td>27</td>\n",
       "      <td>268</td>\n",
       "      <td>Salaried</td>\n",
       "      <td>1</td>\n",
       "      <td>15</td>\n",
       "      <td>No</td>\n",
       "      <td>862952</td>\n",
       "      <td>Yes</td>\n",
       "      <td>0</td>\n",
       "    </tr>\n",
       "    <tr>\n",
       "      <th>245722</th>\n",
       "      <td>Female</td>\n",
       "      <td>26</td>\n",
       "      <td>281</td>\n",
       "      <td>Salaried</td>\n",
       "      <td>1</td>\n",
       "      <td>13</td>\n",
       "      <td>No</td>\n",
       "      <td>670659</td>\n",
       "      <td>No</td>\n",
       "      <td>0</td>\n",
       "    </tr>\n",
       "    <tr>\n",
       "      <th>245723</th>\n",
       "      <td>Female</td>\n",
       "      <td>28</td>\n",
       "      <td>273</td>\n",
       "      <td>Salaried</td>\n",
       "      <td>1</td>\n",
       "      <td>31</td>\n",
       "      <td>No</td>\n",
       "      <td>407504</td>\n",
       "      <td>No</td>\n",
       "      <td>0</td>\n",
       "    </tr>\n",
       "    <tr>\n",
       "      <th>245724</th>\n",
       "      <td>Male</td>\n",
       "      <td>29</td>\n",
       "      <td>269</td>\n",
       "      <td>Salaried</td>\n",
       "      <td>1</td>\n",
       "      <td>21</td>\n",
       "      <td>No</td>\n",
       "      <td>1129276</td>\n",
       "      <td>No</td>\n",
       "      <td>0</td>\n",
       "    </tr>\n",
       "  </tbody>\n",
       "</table>\n",
       "<p>245725 rows × 10 columns</p>\n",
       "</div>"
      ],
      "text/plain": [
       "        Gender  Age  Region_Code     Occupation  Channel_Code  Vintage  \\\n",
       "0       Female   73          268          Other             3       43   \n",
       "1       Female   30          277       Salaried             1       32   \n",
       "2       Female   56          268  Self_Employed             3       26   \n",
       "3         Male   34          270       Salaried             1       19   \n",
       "4       Female   30          282       Salaried             1       33   \n",
       "...        ...  ...          ...            ...           ...      ...   \n",
       "245720    Male   51          284  Self_Employed             3      109   \n",
       "245721    Male   27          268       Salaried             1       15   \n",
       "245722  Female   26          281       Salaried             1       13   \n",
       "245723  Female   28          273       Salaried             1       31   \n",
       "245724    Male   29          269       Salaried             1       21   \n",
       "\n",
       "       Credit_Product  Avg_Account_Balance Is_Active  Is_Lead  \n",
       "0                  No              1045696        No        0  \n",
       "1                  No               581988        No        0  \n",
       "2                  No              1484315       Yes        0  \n",
       "3                  No               470454        No        0  \n",
       "4                  No               886787        No        0  \n",
       "...               ...                  ...       ...      ...  \n",
       "245720             No              1925586        No        0  \n",
       "245721             No               862952       Yes        0  \n",
       "245722             No               670659        No        0  \n",
       "245723             No               407504        No        0  \n",
       "245724             No              1129276        No        0  \n",
       "\n",
       "[245725 rows x 10 columns]"
      ]
     },
     "execution_count": 232,
     "metadata": {},
     "output_type": "execute_result"
    }
   ],
   "source": [
    "data"
   ]
  },
  {
   "cell_type": "code",
   "execution_count": null,
   "id": "bcfab2a1",
   "metadata": {
    "id": "bcfab2a1",
    "outputId": "55da59aa-0a83-4507-bfe2-d07ee20557bc"
   },
   "outputs": [
    {
     "data": {
      "text/plain": [
       "Age                           int64\n",
       "Region_Code                   int32\n",
       "Channel_Code                  int32\n",
       "Vintage                       int64\n",
       "Avg_Account_Balance           int64\n",
       "Is_Lead                       int64\n",
       "Gender_Male                 float64\n",
       "Occupation_Other            float64\n",
       "Occupation_Salaried         float64\n",
       "Occupation_Self_Employed    float64\n",
       "Is_Active_Yes               float64\n",
       "Credit_Product_Yes          float64\n",
       "dtype: object"
      ]
     },
     "execution_count": 307,
     "metadata": {},
     "output_type": "execute_result"
    }
   ],
   "source": [
    "data.dtypes"
   ]
  },
  {
   "cell_type": "code",
   "execution_count": null,
   "id": "c6847ce8",
   "metadata": {
    "id": "c6847ce8"
   },
   "outputs": [],
   "source": [
    "#ONE HOT ENCODING"
   ]
  },
  {
   "cell_type": "code",
   "execution_count": null,
   "id": "db7f14cb",
   "metadata": {
    "id": "db7f14cb",
    "outputId": "9157cadc-3107-4a36-acb4-23a893cb9d46"
   },
   "outputs": [
    {
     "data": {
      "text/html": [
       "<div>\n",
       "<style scoped>\n",
       "    .dataframe tbody tr th:only-of-type {\n",
       "        vertical-align: middle;\n",
       "    }\n",
       "\n",
       "    .dataframe tbody tr th {\n",
       "        vertical-align: top;\n",
       "    }\n",
       "\n",
       "    .dataframe thead th {\n",
       "        text-align: right;\n",
       "    }\n",
       "</style>\n",
       "<table border=\"1\" class=\"dataframe\">\n",
       "  <thead>\n",
       "    <tr style=\"text-align: right;\">\n",
       "      <th></th>\n",
       "      <th>Age</th>\n",
       "      <th>Region_Code</th>\n",
       "      <th>Channel_Code</th>\n",
       "      <th>Vintage</th>\n",
       "      <th>Avg_Account_Balance</th>\n",
       "      <th>Is_Lead</th>\n",
       "      <th>Gender_Male</th>\n",
       "      <th>Occupation_Other</th>\n",
       "      <th>Occupation_Salaried</th>\n",
       "      <th>Occupation_Self_Employed</th>\n",
       "      <th>Is_Active_Yes</th>\n",
       "      <th>Credit_Product_Yes</th>\n",
       "    </tr>\n",
       "  </thead>\n",
       "  <tbody>\n",
       "    <tr>\n",
       "      <th>0</th>\n",
       "      <td>73</td>\n",
       "      <td>268</td>\n",
       "      <td>3</td>\n",
       "      <td>43</td>\n",
       "      <td>1045696</td>\n",
       "      <td>0</td>\n",
       "      <td>0.0</td>\n",
       "      <td>1.0</td>\n",
       "      <td>0.0</td>\n",
       "      <td>0.0</td>\n",
       "      <td>0.0</td>\n",
       "      <td>0.0</td>\n",
       "    </tr>\n",
       "    <tr>\n",
       "      <th>1</th>\n",
       "      <td>30</td>\n",
       "      <td>277</td>\n",
       "      <td>1</td>\n",
       "      <td>32</td>\n",
       "      <td>581988</td>\n",
       "      <td>0</td>\n",
       "      <td>0.0</td>\n",
       "      <td>0.0</td>\n",
       "      <td>1.0</td>\n",
       "      <td>0.0</td>\n",
       "      <td>0.0</td>\n",
       "      <td>0.0</td>\n",
       "    </tr>\n",
       "    <tr>\n",
       "      <th>2</th>\n",
       "      <td>56</td>\n",
       "      <td>268</td>\n",
       "      <td>3</td>\n",
       "      <td>26</td>\n",
       "      <td>1484315</td>\n",
       "      <td>0</td>\n",
       "      <td>0.0</td>\n",
       "      <td>0.0</td>\n",
       "      <td>0.0</td>\n",
       "      <td>1.0</td>\n",
       "      <td>1.0</td>\n",
       "      <td>0.0</td>\n",
       "    </tr>\n",
       "    <tr>\n",
       "      <th>3</th>\n",
       "      <td>34</td>\n",
       "      <td>270</td>\n",
       "      <td>1</td>\n",
       "      <td>19</td>\n",
       "      <td>470454</td>\n",
       "      <td>0</td>\n",
       "      <td>1.0</td>\n",
       "      <td>0.0</td>\n",
       "      <td>1.0</td>\n",
       "      <td>0.0</td>\n",
       "      <td>0.0</td>\n",
       "      <td>0.0</td>\n",
       "    </tr>\n",
       "    <tr>\n",
       "      <th>4</th>\n",
       "      <td>30</td>\n",
       "      <td>282</td>\n",
       "      <td>1</td>\n",
       "      <td>33</td>\n",
       "      <td>886787</td>\n",
       "      <td>0</td>\n",
       "      <td>0.0</td>\n",
       "      <td>0.0</td>\n",
       "      <td>1.0</td>\n",
       "      <td>0.0</td>\n",
       "      <td>0.0</td>\n",
       "      <td>0.0</td>\n",
       "    </tr>\n",
       "    <tr>\n",
       "      <th>...</th>\n",
       "      <td>...</td>\n",
       "      <td>...</td>\n",
       "      <td>...</td>\n",
       "      <td>...</td>\n",
       "      <td>...</td>\n",
       "      <td>...</td>\n",
       "      <td>...</td>\n",
       "      <td>...</td>\n",
       "      <td>...</td>\n",
       "      <td>...</td>\n",
       "      <td>...</td>\n",
       "      <td>...</td>\n",
       "    </tr>\n",
       "    <tr>\n",
       "      <th>245720</th>\n",
       "      <td>51</td>\n",
       "      <td>284</td>\n",
       "      <td>3</td>\n",
       "      <td>109</td>\n",
       "      <td>1925586</td>\n",
       "      <td>0</td>\n",
       "      <td>1.0</td>\n",
       "      <td>0.0</td>\n",
       "      <td>0.0</td>\n",
       "      <td>1.0</td>\n",
       "      <td>0.0</td>\n",
       "      <td>0.0</td>\n",
       "    </tr>\n",
       "    <tr>\n",
       "      <th>245721</th>\n",
       "      <td>27</td>\n",
       "      <td>268</td>\n",
       "      <td>1</td>\n",
       "      <td>15</td>\n",
       "      <td>862952</td>\n",
       "      <td>0</td>\n",
       "      <td>1.0</td>\n",
       "      <td>0.0</td>\n",
       "      <td>1.0</td>\n",
       "      <td>0.0</td>\n",
       "      <td>1.0</td>\n",
       "      <td>0.0</td>\n",
       "    </tr>\n",
       "    <tr>\n",
       "      <th>245722</th>\n",
       "      <td>26</td>\n",
       "      <td>281</td>\n",
       "      <td>1</td>\n",
       "      <td>13</td>\n",
       "      <td>670659</td>\n",
       "      <td>0</td>\n",
       "      <td>0.0</td>\n",
       "      <td>0.0</td>\n",
       "      <td>1.0</td>\n",
       "      <td>0.0</td>\n",
       "      <td>0.0</td>\n",
       "      <td>0.0</td>\n",
       "    </tr>\n",
       "    <tr>\n",
       "      <th>245723</th>\n",
       "      <td>28</td>\n",
       "      <td>273</td>\n",
       "      <td>1</td>\n",
       "      <td>31</td>\n",
       "      <td>407504</td>\n",
       "      <td>0</td>\n",
       "      <td>0.0</td>\n",
       "      <td>0.0</td>\n",
       "      <td>1.0</td>\n",
       "      <td>0.0</td>\n",
       "      <td>0.0</td>\n",
       "      <td>0.0</td>\n",
       "    </tr>\n",
       "    <tr>\n",
       "      <th>245724</th>\n",
       "      <td>29</td>\n",
       "      <td>269</td>\n",
       "      <td>1</td>\n",
       "      <td>21</td>\n",
       "      <td>1129276</td>\n",
       "      <td>0</td>\n",
       "      <td>1.0</td>\n",
       "      <td>0.0</td>\n",
       "      <td>1.0</td>\n",
       "      <td>0.0</td>\n",
       "      <td>0.0</td>\n",
       "      <td>0.0</td>\n",
       "    </tr>\n",
       "  </tbody>\n",
       "</table>\n",
       "<p>245725 rows × 12 columns</p>\n",
       "</div>"
      ],
      "text/plain": [
       "        Age  Region_Code  Channel_Code  Vintage  Avg_Account_Balance  Is_Lead  \\\n",
       "0        73          268             3       43              1045696        0   \n",
       "1        30          277             1       32               581988        0   \n",
       "2        56          268             3       26              1484315        0   \n",
       "3        34          270             1       19               470454        0   \n",
       "4        30          282             1       33               886787        0   \n",
       "...     ...          ...           ...      ...                  ...      ...   \n",
       "245720   51          284             3      109              1925586        0   \n",
       "245721   27          268             1       15               862952        0   \n",
       "245722   26          281             1       13               670659        0   \n",
       "245723   28          273             1       31               407504        0   \n",
       "245724   29          269             1       21              1129276        0   \n",
       "\n",
       "        Gender_Male  Occupation_Other  Occupation_Salaried  \\\n",
       "0               0.0               1.0                  0.0   \n",
       "1               0.0               0.0                  1.0   \n",
       "2               0.0               0.0                  0.0   \n",
       "3               1.0               0.0                  1.0   \n",
       "4               0.0               0.0                  1.0   \n",
       "...             ...               ...                  ...   \n",
       "245720          1.0               0.0                  0.0   \n",
       "245721          1.0               0.0                  1.0   \n",
       "245722          0.0               0.0                  1.0   \n",
       "245723          0.0               0.0                  1.0   \n",
       "245724          1.0               0.0                  1.0   \n",
       "\n",
       "        Occupation_Self_Employed  Is_Active_Yes  Credit_Product_Yes  \n",
       "0                            0.0            0.0                 0.0  \n",
       "1                            0.0            0.0                 0.0  \n",
       "2                            1.0            1.0                 0.0  \n",
       "3                            0.0            0.0                 0.0  \n",
       "4                            0.0            0.0                 0.0  \n",
       "...                          ...            ...                 ...  \n",
       "245720                       1.0            0.0                 0.0  \n",
       "245721                       0.0            1.0                 0.0  \n",
       "245722                       0.0            0.0                 0.0  \n",
       "245723                       0.0            0.0                 0.0  \n",
       "245724                       0.0            0.0                 0.0  \n",
       "\n",
       "[245725 rows x 12 columns]"
      ]
     },
     "execution_count": 234,
     "metadata": {},
     "output_type": "execute_result"
    }
   ],
   "source": [
    "from sklearn.preprocessing import OneHotEncoder\n",
    "\n",
    "# Select the categorical columns to encode\n",
    "categorical_columns = ['Gender', 'Occupation', 'Is_Active', 'Credit_Product']\n",
    "\n",
    "# Create a OneHotEncoder instance\n",
    "encoder = OneHotEncoder(drop='first', sparse=False)\n",
    "\n",
    "# Fit and transform the encoder on the selected categorical columns\n",
    "encoded_columns = encoder.fit_transform(data[categorical_columns])\n",
    "\n",
    "# Create a DataFrame from the encoded_columns array with column names\n",
    "encoded_data = pd.DataFrame(encoded_columns, columns=encoder.get_feature_names_out(categorical_columns))\n",
    "\n",
    "# Drop the original categorical columns from 'data'\n",
    "data.drop(categorical_columns, axis=1, inplace=True)\n",
    "\n",
    "# Concatenate the original 'data' DataFrame with the encoded_data DataFrame\n",
    "data = pd.concat([data, encoded_data], axis=1)\n",
    "\n",
    "# Show the updated 'data' DataFrame\n",
    "data"
   ]
  },
  {
   "cell_type": "code",
   "execution_count": null,
   "id": "2bf0279c",
   "metadata": {
    "id": "2bf0279c",
    "outputId": "77feae16-c687-4b2c-ee4f-6fb10cfa673e"
   },
   "outputs": [
    {
     "data": {
      "image/png": "[encoded data removed]",
      "text/plain": [
       "<Figure size 720x432 with 1 Axes>"
      ]
     },
     "metadata": {
      "needs_background": "light"
     },
     "output_type": "display_data"
    }
   ],
   "source": [
    "plt.figure(figsize=(10, 6))\n",
    "sns.histplot(data['Avg_Account_Balance'], bins=40, kde=True)\n",
    "plt.xlabel('Average Account Balance')\n",
    "plt.ylabel('Count')\n",
    "plt.title('Distribution of Average Account Balance')\n",
    "plt.show()"
   ]
  },
  {
   "cell_type": "code",
   "execution_count": null,
   "id": "c5a30889",
   "metadata": {
    "id": "c5a30889"
   },
   "outputs": [],
   "source": [
    "#HANDLING OUTLIERS"
   ]
  },
  {
   "cell_type": "markdown",
   "id": "-B-wQ6aYwlWZ",
   "metadata": {
    "id": "-B-wQ6aYwlWZ"
   },
   "source": [
    "# HANDLING OUTLIERS**"
   ]
  },
  {
   "cell_type": "code",
   "execution_count": null,
   "id": "e4a8e279",
   "metadata": {
    "id": "e4a8e279"
   },
   "outputs": [],
   "source": [
    "plt.rcParams['figure.figsize'] = (10, 6)  # Set the default figure size (width, height) in inches\n"
   ]
  },
  {
   "cell_type": "code",
   "execution_count": null,
   "id": "96be86c0",
   "metadata": {
    "id": "96be86c0",
    "outputId": "3d80ec37-6c1a-406a-e4ad-95fb347af45c"
   },
   "outputs": [
    {
     "name": "stdout",
     "output_type": "stream",
     "text": [
      "        Age  Region_Code  Channel_Code  Vintage  Avg_Account_Balance  Is_Lead  \\\n",
      "0        73          268             3       43            13.860193        0   \n",
      "1        30          277             1       32            13.274205        0   \n",
      "2        56          268             3       26            14.210464        0   \n",
      "3        34          270             1       19            13.061453        0   \n",
      "4        30          282             1       33            13.695360        0   \n",
      "...     ...          ...           ...      ...                  ...      ...   \n",
      "245720   51          284             3      109            14.470741        0   \n",
      "245721   27          268             1       15            13.668114        0   \n",
      "245722   26          281             1       13            13.416016        0   \n",
      "245723   28          273             1       31            12.917806        0   \n",
      "245724   29          269             1       21            13.937087        0   \n",
      "\n",
      "        Gender_Male  Occupation_Other  Occupation_Salaried  \\\n",
      "0               0.0               1.0                  0.0   \n",
      "1               0.0               0.0                  1.0   \n",
      "2               0.0               0.0                  0.0   \n",
      "3               1.0               0.0                  1.0   \n",
      "4               0.0               0.0                  1.0   \n",
      "...             ...               ...                  ...   \n",
      "245720          1.0               0.0                  0.0   \n",
      "245721          1.0               0.0                  1.0   \n",
      "245722          0.0               0.0                  1.0   \n",
      "245723          0.0               0.0                  1.0   \n",
      "245724          1.0               0.0                  1.0   \n",
      "\n",
      "        Occupation_Self_Employed  Is_Active_Yes  Credit_Product_Yes  \n",
      "0                            0.0            0.0                 0.0  \n",
      "1                            0.0            0.0                 0.0  \n",
      "2                            1.0            1.0                 0.0  \n",
      "3                            0.0            0.0                 0.0  \n",
      "4                            0.0            0.0                 0.0  \n",
      "...                          ...            ...                 ...  \n",
      "245720                       1.0            0.0                 0.0  \n",
      "245721                       0.0            1.0                 0.0  \n",
      "245722                       0.0            0.0                 0.0  \n",
      "245723                       0.0            0.0                 0.0  \n",
      "245724                       0.0            0.0                 0.0  \n",
      "\n",
      "[245725 rows x 12 columns]\n"
     ]
    }
   ],
   "source": [
    "#transformation\n",
    "#log transformation:\n",
    "\n",
    "credit_card_data = data.copy()\n",
    "# Log transformation on the \"avg_account_balance\" column\n",
    "credit_card_data[\"Avg_Account_Balance\"] = credit_card_data[\"Avg_Account_Balance\"].map(lambda i: np.log(i) if i > 0 else 0)\n",
    "# Print the DataFrame to observe the transformation\n",
    "print(credit_card_data)"
   ]
  },
  {
   "cell_type": "code",
   "execution_count": null,
   "id": "e6b6bd58",
   "metadata": {
    "id": "e6b6bd58",
    "outputId": "23b34713-c5a6-45c5-dc7b-6f401530b5a3"
   },
   "outputs": [
    {
     "data": {
      "text/plain": [
       "Text(0.5, 1.0, 'Box Plot of Log-Transformed Avg_Account_Balance')"
      ]
     },
     "execution_count": 239,
     "metadata": {},
     "output_type": "execute_result"
    },
    {
     "data": {
      "image/png": "[encoded data removed]",
      "text/plain": [
       "<Figure size 576x432 with 1 Axes>"
      ]
     },
     "metadata": {
      "needs_background": "light"
     },
     "output_type": "display_data"
    }
   ],
   "source": [
    "plt.figure(figsize=(8, 6))\n",
    "plt.boxplot(credit_card_data['Avg_Account_Balance'])\n",
    "plt.title('Box Plot of Log-Transformed Avg_Account_Balance')"
   ]
  },
  {
   "cell_type": "code",
   "execution_count": null,
   "id": "92042bb1",
   "metadata": {
    "id": "92042bb1",
    "outputId": "51e29a61-eb63-4508-e6a2-59a4393c6703"
   },
   "outputs": [
    {
     "data": {
      "text/html": [
       "<div>\n",
       "<style scoped>\n",
       "    .dataframe tbody tr th:only-of-type {\n",
       "        vertical-align: middle;\n",
       "    }\n",
       "\n",
       "    .dataframe tbody tr th {\n",
       "        vertical-align: top;\n",
       "    }\n",
       "\n",
       "    .dataframe thead th {\n",
       "        text-align: right;\n",
       "    }\n",
       "</style>\n",
       "<table border=\"1\" class=\"dataframe\">\n",
       "  <thead>\n",
       "    <tr style=\"text-align: right;\">\n",
       "      <th></th>\n",
       "      <th>Age</th>\n",
       "      <th>Region_Code</th>\n",
       "      <th>Channel_Code</th>\n",
       "      <th>Vintage</th>\n",
       "      <th>Avg_Account_Balance</th>\n",
       "      <th>Is_Lead</th>\n",
       "      <th>Gender_Male</th>\n",
       "      <th>Occupation_Other</th>\n",
       "      <th>Occupation_Salaried</th>\n",
       "      <th>Occupation_Self_Employed</th>\n",
       "      <th>Is_Active_Yes</th>\n",
       "      <th>Credit_Product_Yes</th>\n",
       "    </tr>\n",
       "  </thead>\n",
       "  <tbody>\n",
       "    <tr>\n",
       "      <th>0</th>\n",
       "      <td>73</td>\n",
       "      <td>268</td>\n",
       "      <td>3</td>\n",
       "      <td>43</td>\n",
       "      <td>13.860193</td>\n",
       "      <td>0</td>\n",
       "      <td>0.0</td>\n",
       "      <td>1.0</td>\n",
       "      <td>0.0</td>\n",
       "      <td>0.0</td>\n",
       "      <td>0.0</td>\n",
       "      <td>0.0</td>\n",
       "    </tr>\n",
       "    <tr>\n",
       "      <th>1</th>\n",
       "      <td>30</td>\n",
       "      <td>277</td>\n",
       "      <td>1</td>\n",
       "      <td>32</td>\n",
       "      <td>13.274205</td>\n",
       "      <td>0</td>\n",
       "      <td>0.0</td>\n",
       "      <td>0.0</td>\n",
       "      <td>1.0</td>\n",
       "      <td>0.0</td>\n",
       "      <td>0.0</td>\n",
       "      <td>0.0</td>\n",
       "    </tr>\n",
       "    <tr>\n",
       "      <th>2</th>\n",
       "      <td>56</td>\n",
       "      <td>268</td>\n",
       "      <td>3</td>\n",
       "      <td>26</td>\n",
       "      <td>14.210464</td>\n",
       "      <td>0</td>\n",
       "      <td>0.0</td>\n",
       "      <td>0.0</td>\n",
       "      <td>0.0</td>\n",
       "      <td>1.0</td>\n",
       "      <td>1.0</td>\n",
       "      <td>0.0</td>\n",
       "    </tr>\n",
       "    <tr>\n",
       "      <th>3</th>\n",
       "      <td>34</td>\n",
       "      <td>270</td>\n",
       "      <td>1</td>\n",
       "      <td>19</td>\n",
       "      <td>13.061453</td>\n",
       "      <td>0</td>\n",
       "      <td>1.0</td>\n",
       "      <td>0.0</td>\n",
       "      <td>1.0</td>\n",
       "      <td>0.0</td>\n",
       "      <td>0.0</td>\n",
       "      <td>0.0</td>\n",
       "    </tr>\n",
       "    <tr>\n",
       "      <th>4</th>\n",
       "      <td>30</td>\n",
       "      <td>282</td>\n",
       "      <td>1</td>\n",
       "      <td>33</td>\n",
       "      <td>13.695360</td>\n",
       "      <td>0</td>\n",
       "      <td>0.0</td>\n",
       "      <td>0.0</td>\n",
       "      <td>1.0</td>\n",
       "      <td>0.0</td>\n",
       "      <td>0.0</td>\n",
       "      <td>0.0</td>\n",
       "    </tr>\n",
       "    <tr>\n",
       "      <th>...</th>\n",
       "      <td>...</td>\n",
       "      <td>...</td>\n",
       "      <td>...</td>\n",
       "      <td>...</td>\n",
       "      <td>...</td>\n",
       "      <td>...</td>\n",
       "      <td>...</td>\n",
       "      <td>...</td>\n",
       "      <td>...</td>\n",
       "      <td>...</td>\n",
       "      <td>...</td>\n",
       "      <td>...</td>\n",
       "    </tr>\n",
       "    <tr>\n",
       "      <th>245720</th>\n",
       "      <td>51</td>\n",
       "      <td>284</td>\n",
       "      <td>3</td>\n",
       "      <td>109</td>\n",
       "      <td>14.470741</td>\n",
       "      <td>0</td>\n",
       "      <td>1.0</td>\n",
       "      <td>0.0</td>\n",
       "      <td>0.0</td>\n",
       "      <td>1.0</td>\n",
       "      <td>0.0</td>\n",
       "      <td>0.0</td>\n",
       "    </tr>\n",
       "    <tr>\n",
       "      <th>245721</th>\n",
       "      <td>27</td>\n",
       "      <td>268</td>\n",
       "      <td>1</td>\n",
       "      <td>15</td>\n",
       "      <td>13.668114</td>\n",
       "      <td>0</td>\n",
       "      <td>1.0</td>\n",
       "      <td>0.0</td>\n",
       "      <td>1.0</td>\n",
       "      <td>0.0</td>\n",
       "      <td>1.0</td>\n",
       "      <td>0.0</td>\n",
       "    </tr>\n",
       "    <tr>\n",
       "      <th>245722</th>\n",
       "      <td>26</td>\n",
       "      <td>281</td>\n",
       "      <td>1</td>\n",
       "      <td>13</td>\n",
       "      <td>13.416016</td>\n",
       "      <td>0</td>\n",
       "      <td>0.0</td>\n",
       "      <td>0.0</td>\n",
       "      <td>1.0</td>\n",
       "      <td>0.0</td>\n",
       "      <td>0.0</td>\n",
       "      <td>0.0</td>\n",
       "    </tr>\n",
       "    <tr>\n",
       "      <th>245723</th>\n",
       "      <td>28</td>\n",
       "      <td>273</td>\n",
       "      <td>1</td>\n",
       "      <td>31</td>\n",
       "      <td>12.917806</td>\n",
       "      <td>0</td>\n",
       "      <td>0.0</td>\n",
       "      <td>0.0</td>\n",
       "      <td>1.0</td>\n",
       "      <td>0.0</td>\n",
       "      <td>0.0</td>\n",
       "      <td>0.0</td>\n",
       "    </tr>\n",
       "    <tr>\n",
       "      <th>245724</th>\n",
       "      <td>29</td>\n",
       "      <td>269</td>\n",
       "      <td>1</td>\n",
       "      <td>21</td>\n",
       "      <td>13.937087</td>\n",
       "      <td>0</td>\n",
       "      <td>1.0</td>\n",
       "      <td>0.0</td>\n",
       "      <td>1.0</td>\n",
       "      <td>0.0</td>\n",
       "      <td>0.0</td>\n",
       "      <td>0.0</td>\n",
       "    </tr>\n",
       "  </tbody>\n",
       "</table>\n",
       "<p>245725 rows × 12 columns</p>\n",
       "</div>"
      ],
      "text/plain": [
       "        Age  Region_Code  Channel_Code  Vintage  Avg_Account_Balance  Is_Lead  \\\n",
       "0        73          268             3       43            13.860193        0   \n",
       "1        30          277             1       32            13.274205        0   \n",
       "2        56          268             3       26            14.210464        0   \n",
       "3        34          270             1       19            13.061453        0   \n",
       "4        30          282             1       33            13.695360        0   \n",
       "...     ...          ...           ...      ...                  ...      ...   \n",
       "245720   51          284             3      109            14.470741        0   \n",
       "245721   27          268             1       15            13.668114        0   \n",
       "245722   26          281             1       13            13.416016        0   \n",
       "245723   28          273             1       31            12.917806        0   \n",
       "245724   29          269             1       21            13.937087        0   \n",
       "\n",
       "        Gender_Male  Occupation_Other  Occupation_Salaried  \\\n",
       "0               0.0               1.0                  0.0   \n",
       "1               0.0               0.0                  1.0   \n",
       "2               0.0               0.0                  0.0   \n",
       "3               1.0               0.0                  1.0   \n",
       "4               0.0               0.0                  1.0   \n",
       "...             ...               ...                  ...   \n",
       "245720          1.0               0.0                  0.0   \n",
       "245721          1.0               0.0                  1.0   \n",
       "245722          0.0               0.0                  1.0   \n",
       "245723          0.0               0.0                  1.0   \n",
       "245724          1.0               0.0                  1.0   \n",
       "\n",
       "        Occupation_Self_Employed  Is_Active_Yes  Credit_Product_Yes  \n",
       "0                            0.0            0.0                 0.0  \n",
       "1                            0.0            0.0                 0.0  \n",
       "2                            1.0            1.0                 0.0  \n",
       "3                            0.0            0.0                 0.0  \n",
       "4                            0.0            0.0                 0.0  \n",
       "...                          ...            ...                 ...  \n",
       "245720                       1.0            0.0                 0.0  \n",
       "245721                       0.0            1.0                 0.0  \n",
       "245722                       0.0            0.0                 0.0  \n",
       "245723                       0.0            0.0                 0.0  \n",
       "245724                       0.0            0.0                 0.0  \n",
       "\n",
       "[245725 rows x 12 columns]"
      ]
     },
     "execution_count": 240,
     "metadata": {},
     "output_type": "execute_result"
    }
   ],
   "source": [
    "credit_card_data"
   ]
  },
  {
   "cell_type": "code",
   "execution_count": null,
   "id": "79545317",
   "metadata": {
    "id": "79545317",
    "outputId": "ad7b4627-d856-495a-a2ec-9fc270290224"
   },
   "outputs": [
    {
     "data": {
      "image/png": "[encoded data removed]",
      "text/plain": [
       "<Figure size 720x432 with 1 Axes>"
      ]
     },
     "metadata": {
      "needs_background": "light"
     },
     "output_type": "display_data"
    }
   ],
   "source": [
    "plt.figure(figsize=(10, 6))\n",
    "sns.histplot(credit_card_data['Avg_Account_Balance'], bins=40, kde=True)\n",
    "plt.xlabel('Average Account Balance')\n",
    "plt.ylabel('Count')\n",
    "plt.title('Distribution of Average Account Balance')\n",
    "plt.show()"
   ]
  },
  {
   "cell_type": "code",
   "execution_count": null,
   "id": "f25dcb16",
   "metadata": {
    "id": "f25dcb16"
   },
   "outputs": [],
   "source": [
    "#WINSORIZATION"
   ]
  },
  {
   "cell_type": "code",
   "execution_count": null,
   "id": "b73e8282",
   "metadata": {
    "id": "b73e8282"
   },
   "outputs": [],
   "source": [
    "# Create a copy of the original DataFrame to work with\n",
    "winsorized_data = data.copy()\n",
    "\n",
    "# Select the column to handle outliers ('Avg_Account_Balance' in this case)\n",
    "column_name = 'Avg_Account_Balance'\n",
    "\n",
    "# Define the lower and upper percentiles for winsorization (e.g., 5th and 95th percentiles)\n",
    "lower_percentile = 5\n",
    "upper_percentile = 90\n",
    "\n",
    "# Calculate the percentiles\n",
    "lower_bound = np.percentile(winsorized_data['Avg_Account_Balance'], 5)\n",
    "upper_bound = np.percentile(winsorized_data['Avg_Account_Balance'], 90)\n",
    "# Winsorize the data by capping the extreme values\n",
    "winsorized_data['Avg_Account_Balance'] = winsorized_data['Avg_Account_Balance'].clip(lower_bound, upper_bound)\n"
   ]
  },
  {
   "cell_type": "code",
   "execution_count": null,
   "id": "723f9b78",
   "metadata": {
    "id": "723f9b78",
    "outputId": "fd40eb6c-2b12-471e-ef6d-8b91025f2297"
   },
   "outputs": [
    {
     "data": {
      "text/html": [
       "<div>\n",
       "<style scoped>\n",
       "    .dataframe tbody tr th:only-of-type {\n",
       "        vertical-align: middle;\n",
       "    }\n",
       "\n",
       "    .dataframe tbody tr th {\n",
       "        vertical-align: top;\n",
       "    }\n",
       "\n",
       "    .dataframe thead th {\n",
       "        text-align: right;\n",
       "    }\n",
       "</style>\n",
       "<table border=\"1\" class=\"dataframe\">\n",
       "  <thead>\n",
       "    <tr style=\"text-align: right;\">\n",
       "      <th></th>\n",
       "      <th>Age</th>\n",
       "      <th>Region_Code</th>\n",
       "      <th>Channel_Code</th>\n",
       "      <th>Vintage</th>\n",
       "      <th>Avg_Account_Balance</th>\n",
       "      <th>Is_Lead</th>\n",
       "      <th>Gender_Male</th>\n",
       "      <th>Occupation_Other</th>\n",
       "      <th>Occupation_Salaried</th>\n",
       "      <th>Occupation_Self_Employed</th>\n",
       "      <th>Is_Active_Yes</th>\n",
       "      <th>Credit_Product_Yes</th>\n",
       "    </tr>\n",
       "  </thead>\n",
       "  <tbody>\n",
       "    <tr>\n",
       "      <th>0</th>\n",
       "      <td>73</td>\n",
       "      <td>268</td>\n",
       "      <td>3</td>\n",
       "      <td>43</td>\n",
       "      <td>1045696.0</td>\n",
       "      <td>0</td>\n",
       "      <td>0.0</td>\n",
       "      <td>1.0</td>\n",
       "      <td>0.0</td>\n",
       "      <td>0.0</td>\n",
       "      <td>0.0</td>\n",
       "      <td>0.0</td>\n",
       "    </tr>\n",
       "    <tr>\n",
       "      <th>1</th>\n",
       "      <td>30</td>\n",
       "      <td>277</td>\n",
       "      <td>1</td>\n",
       "      <td>32</td>\n",
       "      <td>581988.0</td>\n",
       "      <td>0</td>\n",
       "      <td>0.0</td>\n",
       "      <td>0.0</td>\n",
       "      <td>1.0</td>\n",
       "      <td>0.0</td>\n",
       "      <td>0.0</td>\n",
       "      <td>0.0</td>\n",
       "    </tr>\n",
       "    <tr>\n",
       "      <th>2</th>\n",
       "      <td>56</td>\n",
       "      <td>268</td>\n",
       "      <td>3</td>\n",
       "      <td>26</td>\n",
       "      <td>1484315.0</td>\n",
       "      <td>0</td>\n",
       "      <td>0.0</td>\n",
       "      <td>0.0</td>\n",
       "      <td>0.0</td>\n",
       "      <td>1.0</td>\n",
       "      <td>1.0</td>\n",
       "      <td>0.0</td>\n",
       "    </tr>\n",
       "    <tr>\n",
       "      <th>3</th>\n",
       "      <td>34</td>\n",
       "      <td>270</td>\n",
       "      <td>1</td>\n",
       "      <td>19</td>\n",
       "      <td>470454.0</td>\n",
       "      <td>0</td>\n",
       "      <td>1.0</td>\n",
       "      <td>0.0</td>\n",
       "      <td>1.0</td>\n",
       "      <td>0.0</td>\n",
       "      <td>0.0</td>\n",
       "      <td>0.0</td>\n",
       "    </tr>\n",
       "    <tr>\n",
       "      <th>4</th>\n",
       "      <td>30</td>\n",
       "      <td>282</td>\n",
       "      <td>1</td>\n",
       "      <td>33</td>\n",
       "      <td>886787.0</td>\n",
       "      <td>0</td>\n",
       "      <td>0.0</td>\n",
       "      <td>0.0</td>\n",
       "      <td>1.0</td>\n",
       "      <td>0.0</td>\n",
       "      <td>0.0</td>\n",
       "      <td>0.0</td>\n",
       "    </tr>\n",
       "    <tr>\n",
       "      <th>...</th>\n",
       "      <td>...</td>\n",
       "      <td>...</td>\n",
       "      <td>...</td>\n",
       "      <td>...</td>\n",
       "      <td>...</td>\n",
       "      <td>...</td>\n",
       "      <td>...</td>\n",
       "      <td>...</td>\n",
       "      <td>...</td>\n",
       "      <td>...</td>\n",
       "      <td>...</td>\n",
       "      <td>...</td>\n",
       "    </tr>\n",
       "    <tr>\n",
       "      <th>245720</th>\n",
       "      <td>51</td>\n",
       "      <td>284</td>\n",
       "      <td>3</td>\n",
       "      <td>109</td>\n",
       "      <td>1925586.0</td>\n",
       "      <td>0</td>\n",
       "      <td>1.0</td>\n",
       "      <td>0.0</td>\n",
       "      <td>0.0</td>\n",
       "      <td>1.0</td>\n",
       "      <td>0.0</td>\n",
       "      <td>0.0</td>\n",
       "    </tr>\n",
       "    <tr>\n",
       "      <th>245721</th>\n",
       "      <td>27</td>\n",
       "      <td>268</td>\n",
       "      <td>1</td>\n",
       "      <td>15</td>\n",
       "      <td>862952.0</td>\n",
       "      <td>0</td>\n",
       "      <td>1.0</td>\n",
       "      <td>0.0</td>\n",
       "      <td>1.0</td>\n",
       "      <td>0.0</td>\n",
       "      <td>1.0</td>\n",
       "      <td>0.0</td>\n",
       "    </tr>\n",
       "    <tr>\n",
       "      <th>245722</th>\n",
       "      <td>26</td>\n",
       "      <td>281</td>\n",
       "      <td>1</td>\n",
       "      <td>13</td>\n",
       "      <td>670659.0</td>\n",
       "      <td>0</td>\n",
       "      <td>0.0</td>\n",
       "      <td>0.0</td>\n",
       "      <td>1.0</td>\n",
       "      <td>0.0</td>\n",
       "      <td>0.0</td>\n",
       "      <td>0.0</td>\n",
       "    </tr>\n",
       "    <tr>\n",
       "      <th>245723</th>\n",
       "      <td>28</td>\n",
       "      <td>273</td>\n",
       "      <td>1</td>\n",
       "      <td>31</td>\n",
       "      <td>407504.0</td>\n",
       "      <td>0</td>\n",
       "      <td>0.0</td>\n",
       "      <td>0.0</td>\n",
       "      <td>1.0</td>\n",
       "      <td>0.0</td>\n",
       "      <td>0.0</td>\n",
       "      <td>0.0</td>\n",
       "    </tr>\n",
       "    <tr>\n",
       "      <th>245724</th>\n",
       "      <td>29</td>\n",
       "      <td>269</td>\n",
       "      <td>1</td>\n",
       "      <td>21</td>\n",
       "      <td>1129276.0</td>\n",
       "      <td>0</td>\n",
       "      <td>1.0</td>\n",
       "      <td>0.0</td>\n",
       "      <td>1.0</td>\n",
       "      <td>0.0</td>\n",
       "      <td>0.0</td>\n",
       "      <td>0.0</td>\n",
       "    </tr>\n",
       "  </tbody>\n",
       "</table>\n",
       "<p>245725 rows × 12 columns</p>\n",
       "</div>"
      ],
      "text/plain": [
       "        Age  Region_Code  Channel_Code  Vintage  Avg_Account_Balance  Is_Lead  \\\n",
       "0        73          268             3       43            1045696.0        0   \n",
       "1        30          277             1       32             581988.0        0   \n",
       "2        56          268             3       26            1484315.0        0   \n",
       "3        34          270             1       19             470454.0        0   \n",
       "4        30          282             1       33             886787.0        0   \n",
       "...     ...          ...           ...      ...                  ...      ...   \n",
       "245720   51          284             3      109            1925586.0        0   \n",
       "245721   27          268             1       15             862952.0        0   \n",
       "245722   26          281             1       13             670659.0        0   \n",
       "245723   28          273             1       31             407504.0        0   \n",
       "245724   29          269             1       21            1129276.0        0   \n",
       "\n",
       "        Gender_Male  Occupation_Other  Occupation_Salaried  \\\n",
       "0               0.0               1.0                  0.0   \n",
       "1               0.0               0.0                  1.0   \n",
       "2               0.0               0.0                  0.0   \n",
       "3               1.0               0.0                  1.0   \n",
       "4               0.0               0.0                  1.0   \n",
       "...             ...               ...                  ...   \n",
       "245720          1.0               0.0                  0.0   \n",
       "245721          1.0               0.0                  1.0   \n",
       "245722          0.0               0.0                  1.0   \n",
       "245723          0.0               0.0                  1.0   \n",
       "245724          1.0               0.0                  1.0   \n",
       "\n",
       "        Occupation_Self_Employed  Is_Active_Yes  Credit_Product_Yes  \n",
       "0                            0.0            0.0                 0.0  \n",
       "1                            0.0            0.0                 0.0  \n",
       "2                            1.0            1.0                 0.0  \n",
       "3                            0.0            0.0                 0.0  \n",
       "4                            0.0            0.0                 0.0  \n",
       "...                          ...            ...                 ...  \n",
       "245720                       1.0            0.0                 0.0  \n",
       "245721                       0.0            1.0                 0.0  \n",
       "245722                       0.0            0.0                 0.0  \n",
       "245723                       0.0            0.0                 0.0  \n",
       "245724                       0.0            0.0                 0.0  \n",
       "\n",
       "[245725 rows x 12 columns]"
      ]
     },
     "execution_count": 244,
     "metadata": {},
     "output_type": "execute_result"
    }
   ],
   "source": [
    "winsorized_data"
   ]
  },
  {
   "cell_type": "code",
   "execution_count": null,
   "id": "2d1ae72a",
   "metadata": {
    "id": "2d1ae72a",
    "outputId": "1b484a0a-8168-4f72-ae69-fc5e98b58247"
   },
   "outputs": [
    {
     "data": {
      "text/plain": [
       "2043591.0"
      ]
     },
     "execution_count": 245,
     "metadata": {},
     "output_type": "execute_result"
    }
   ],
   "source": [
    "winsorized_data['Avg_Account_Balance'].max()"
   ]
  },
  {
   "cell_type": "code",
   "execution_count": null,
   "id": "c60bb5ec",
   "metadata": {
    "id": "c60bb5ec",
    "outputId": "48046409-5af3-483c-ec7f-9621ecc73d72"
   },
   "outputs": [
    {
     "data": {
      "text/plain": [
       "352992.8"
      ]
     },
     "execution_count": 246,
     "metadata": {},
     "output_type": "execute_result"
    }
   ],
   "source": [
    "winsorized_data['Avg_Account_Balance'].min()"
   ]
  },
  {
   "cell_type": "code",
   "execution_count": null,
   "id": "213167a4",
   "metadata": {
    "id": "213167a4",
    "outputId": "445532df-3c4b-456c-b5fc-58df1e674935"
   },
   "outputs": [
    {
     "data": {
      "text/plain": [
       "Text(0.5, 1.0, 'Box plot of Avg_Account_Balance')"
      ]
     },
     "execution_count": 247,
     "metadata": {},
     "output_type": "execute_result"
    },
    {
     "data": {
      "image/png": "[encoded data removed]",
      "text/plain": [
       "<Figure size 720x432 with 1 Axes>"
      ]
     },
     "metadata": {
      "needs_background": "light"
     },
     "output_type": "display_data"
    }
   ],
   "source": [
    "plt.boxplot(winsorized_data['Avg_Account_Balance'])\n",
    "plt.title('Box plot of Avg_Account_Balance')"
   ]
  },
  {
   "cell_type": "code",
   "execution_count": null,
   "id": "46715747",
   "metadata": {
    "id": "46715747",
    "outputId": "2eb42349-4f8f-4df4-ffef-b06e87095607"
   },
   "outputs": [
    {
     "data": {
      "image/png": "[encoded data removed]",
      "text/plain": [
       "<Figure size 720x432 with 1 Axes>"
      ]
     },
     "metadata": {
      "needs_background": "light"
     },
     "output_type": "display_data"
    }
   ],
   "source": [
    "plt.figure(figsize=(10, 6))\n",
    "sns.histplot(winsorized_data['Avg_Account_Balance'], bins=40, kde=True)\n",
    "plt.xlabel('Average Account Balance')\n",
    "plt.ylabel('Count')\n",
    "plt.title('Distribution of Average Account Balance')\n",
    "plt.show()"
   ]
  },
  {
   "cell_type": "code",
   "execution_count": null,
   "id": "d06ccef9",
   "metadata": {
    "id": "d06ccef9"
   },
   "outputs": [],
   "source": [
    "#BINNING"
   ]
  },
  {
   "cell_type": "code",
   "execution_count": null,
   "id": "fb8fbbe1",
   "metadata": {
    "id": "fb8fbbe1"
   },
   "outputs": [],
   "source": [
    "#The pd.cut() function is used to perform the actual binning operation. It creates categorical bins based on the specified 'bins' and 'labels'. The 'Avg_Account_Balance' column is divided into intervals defined by the 'bins' list, and each row's value is assigned the corresponding label from the 'labels' list. The right=False argument means that the right bin edge should be excluded from the interval, making the intervals left-closed and right-open.\n",
    "#The  above given code specifically performs binning on the 'Avg_Account_Balance' column, which discretizes the continuous variable into discrete intervals (bins) based on the specified bin edges and labels.\n",
    "\n",
    "\n"
   ]
  },
  {
   "cell_type": "code",
   "execution_count": null,
   "id": "fd986f04",
   "metadata": {
    "id": "fd986f04"
   },
   "outputs": [],
   "source": [
    "##Detect and handle outliers after binning:\n"
   ]
  },
  {
   "cell_type": "code",
   "execution_count": null,
   "id": "ec59391b",
   "metadata": {
    "id": "ec59391b"
   },
   "outputs": [],
   "source": [
    "outlier_handled_data1 = data.copy()\n",
    "\n",
    "# Step 2: Define the new bin edges (customize this based on your data)\n",
    "bins = [10000, 50000, 100000, 500000, 1000000, 3000000, 8000000]\n",
    "\n",
    "# Step 3: Define the corresponding labels for the bins\n",
    "labels = ['10k-50k', '50k-100k', '100k-500k', '500k-1M', '1M-3M', '3M-8M']\n",
    "\n",
    "# Step 4: Binning the 'Avg_Account_Balance' column with the updated bins\n",
    "outlier_handled_data1 ['Avg_Account_Balance_Binned'] = pd.cut(outlier_handled_data1['Avg_Account_Balance'], bins=bins, labels=labels, right=False)\n",
    "\n",
    "# Step 5: Detect outliers on the 'Avg_Account_Balance_Binned' column after binning\n",
    "Q1 = outlier_handled_data1 ['Avg_Account_Balance'].quantile(0.25)\n",
    "Q3 = outlier_handled_data1 ['Avg_Account_Balance'].quantile(0.75)\n",
    "IQR = Q3 - Q1\n",
    "lower_bound = Q1 - 1.5 * IQR\n",
    "upper_bound = Q3 + 1.5 * IQR\n",
    "\n",
    "# Step 6: Replace outliers with the corresponding bin bounds\n",
    "outlier_handled_data1['Avg_Account_Balance'] = outlier_handled_data1['Avg_Account_Balance'].clip(lower=lower_bound, upper=upper_bound)\n"
   ]
  },
  {
   "cell_type": "code",
   "execution_count": null,
   "id": "9f480c53",
   "metadata": {
    "id": "9f480c53",
    "outputId": "9900d1b3-5fbb-4ee8-f5ba-5f5c3e4a8426"
   },
   "outputs": [
    {
     "data": {
      "text/html": [
       "<div>\n",
       "<style scoped>\n",
       "    .dataframe tbody tr th:only-of-type {\n",
       "        vertical-align: middle;\n",
       "    }\n",
       "\n",
       "    .dataframe tbody tr th {\n",
       "        vertical-align: top;\n",
       "    }\n",
       "\n",
       "    .dataframe thead th {\n",
       "        text-align: right;\n",
       "    }\n",
       "</style>\n",
       "<table border=\"1\" class=\"dataframe\">\n",
       "  <thead>\n",
       "    <tr style=\"text-align: right;\">\n",
       "      <th></th>\n",
       "      <th>Age</th>\n",
       "      <th>Region_Code</th>\n",
       "      <th>Channel_Code</th>\n",
       "      <th>Vintage</th>\n",
       "      <th>Avg_Account_Balance</th>\n",
       "      <th>Is_Lead</th>\n",
       "      <th>Gender_Male</th>\n",
       "      <th>Occupation_Other</th>\n",
       "      <th>Occupation_Salaried</th>\n",
       "      <th>Occupation_Self_Employed</th>\n",
       "      <th>Is_Active_Yes</th>\n",
       "      <th>Credit_Product_Yes</th>\n",
       "      <th>Avg_Account_Balance_Binned</th>\n",
       "    </tr>\n",
       "  </thead>\n",
       "  <tbody>\n",
       "    <tr>\n",
       "      <th>0</th>\n",
       "      <td>73</td>\n",
       "      <td>268</td>\n",
       "      <td>3</td>\n",
       "      <td>43</td>\n",
       "      <td>1045696.0</td>\n",
       "      <td>0</td>\n",
       "      <td>0.0</td>\n",
       "      <td>1.0</td>\n",
       "      <td>0.0</td>\n",
       "      <td>0.0</td>\n",
       "      <td>0.0</td>\n",
       "      <td>0.0</td>\n",
       "      <td>1M-3M</td>\n",
       "    </tr>\n",
       "    <tr>\n",
       "      <th>1</th>\n",
       "      <td>30</td>\n",
       "      <td>277</td>\n",
       "      <td>1</td>\n",
       "      <td>32</td>\n",
       "      <td>581988.0</td>\n",
       "      <td>0</td>\n",
       "      <td>0.0</td>\n",
       "      <td>0.0</td>\n",
       "      <td>1.0</td>\n",
       "      <td>0.0</td>\n",
       "      <td>0.0</td>\n",
       "      <td>0.0</td>\n",
       "      <td>500k-1M</td>\n",
       "    </tr>\n",
       "    <tr>\n",
       "      <th>2</th>\n",
       "      <td>56</td>\n",
       "      <td>268</td>\n",
       "      <td>3</td>\n",
       "      <td>26</td>\n",
       "      <td>1484315.0</td>\n",
       "      <td>0</td>\n",
       "      <td>0.0</td>\n",
       "      <td>0.0</td>\n",
       "      <td>0.0</td>\n",
       "      <td>1.0</td>\n",
       "      <td>1.0</td>\n",
       "      <td>0.0</td>\n",
       "      <td>1M-3M</td>\n",
       "    </tr>\n",
       "    <tr>\n",
       "      <th>3</th>\n",
       "      <td>34</td>\n",
       "      <td>270</td>\n",
       "      <td>1</td>\n",
       "      <td>19</td>\n",
       "      <td>470454.0</td>\n",
       "      <td>0</td>\n",
       "      <td>1.0</td>\n",
       "      <td>0.0</td>\n",
       "      <td>1.0</td>\n",
       "      <td>0.0</td>\n",
       "      <td>0.0</td>\n",
       "      <td>0.0</td>\n",
       "      <td>100k-500k</td>\n",
       "    </tr>\n",
       "    <tr>\n",
       "      <th>4</th>\n",
       "      <td>30</td>\n",
       "      <td>282</td>\n",
       "      <td>1</td>\n",
       "      <td>33</td>\n",
       "      <td>886787.0</td>\n",
       "      <td>0</td>\n",
       "      <td>0.0</td>\n",
       "      <td>0.0</td>\n",
       "      <td>1.0</td>\n",
       "      <td>0.0</td>\n",
       "      <td>0.0</td>\n",
       "      <td>0.0</td>\n",
       "      <td>500k-1M</td>\n",
       "    </tr>\n",
       "    <tr>\n",
       "      <th>...</th>\n",
       "      <td>...</td>\n",
       "      <td>...</td>\n",
       "      <td>...</td>\n",
       "      <td>...</td>\n",
       "      <td>...</td>\n",
       "      <td>...</td>\n",
       "      <td>...</td>\n",
       "      <td>...</td>\n",
       "      <td>...</td>\n",
       "      <td>...</td>\n",
       "      <td>...</td>\n",
       "      <td>...</td>\n",
       "      <td>...</td>\n",
       "    </tr>\n",
       "    <tr>\n",
       "      <th>245720</th>\n",
       "      <td>51</td>\n",
       "      <td>284</td>\n",
       "      <td>3</td>\n",
       "      <td>109</td>\n",
       "      <td>1925586.0</td>\n",
       "      <td>0</td>\n",
       "      <td>1.0</td>\n",
       "      <td>0.0</td>\n",
       "      <td>0.0</td>\n",
       "      <td>1.0</td>\n",
       "      <td>0.0</td>\n",
       "      <td>0.0</td>\n",
       "      <td>1M-3M</td>\n",
       "    </tr>\n",
       "    <tr>\n",
       "      <th>245721</th>\n",
       "      <td>27</td>\n",
       "      <td>268</td>\n",
       "      <td>1</td>\n",
       "      <td>15</td>\n",
       "      <td>862952.0</td>\n",
       "      <td>0</td>\n",
       "      <td>1.0</td>\n",
       "      <td>0.0</td>\n",
       "      <td>1.0</td>\n",
       "      <td>0.0</td>\n",
       "      <td>1.0</td>\n",
       "      <td>0.0</td>\n",
       "      <td>500k-1M</td>\n",
       "    </tr>\n",
       "    <tr>\n",
       "      <th>245722</th>\n",
       "      <td>26</td>\n",
       "      <td>281</td>\n",
       "      <td>1</td>\n",
       "      <td>13</td>\n",
       "      <td>670659.0</td>\n",
       "      <td>0</td>\n",
       "      <td>0.0</td>\n",
       "      <td>0.0</td>\n",
       "      <td>1.0</td>\n",
       "      <td>0.0</td>\n",
       "      <td>0.0</td>\n",
       "      <td>0.0</td>\n",
       "      <td>500k-1M</td>\n",
       "    </tr>\n",
       "    <tr>\n",
       "      <th>245723</th>\n",
       "      <td>28</td>\n",
       "      <td>273</td>\n",
       "      <td>1</td>\n",
       "      <td>31</td>\n",
       "      <td>407504.0</td>\n",
       "      <td>0</td>\n",
       "      <td>0.0</td>\n",
       "      <td>0.0</td>\n",
       "      <td>1.0</td>\n",
       "      <td>0.0</td>\n",
       "      <td>0.0</td>\n",
       "      <td>0.0</td>\n",
       "      <td>100k-500k</td>\n",
       "    </tr>\n",
       "    <tr>\n",
       "      <th>245724</th>\n",
       "      <td>29</td>\n",
       "      <td>269</td>\n",
       "      <td>1</td>\n",
       "      <td>21</td>\n",
       "      <td>1129276.0</td>\n",
       "      <td>0</td>\n",
       "      <td>1.0</td>\n",
       "      <td>0.0</td>\n",
       "      <td>1.0</td>\n",
       "      <td>0.0</td>\n",
       "      <td>0.0</td>\n",
       "      <td>0.0</td>\n",
       "      <td>1M-3M</td>\n",
       "    </tr>\n",
       "  </tbody>\n",
       "</table>\n",
       "<p>245725 rows × 13 columns</p>\n",
       "</div>"
      ],
      "text/plain": [
       "        Age  Region_Code  Channel_Code  Vintage  Avg_Account_Balance  Is_Lead  \\\n",
       "0        73          268             3       43            1045696.0        0   \n",
       "1        30          277             1       32             581988.0        0   \n",
       "2        56          268             3       26            1484315.0        0   \n",
       "3        34          270             1       19             470454.0        0   \n",
       "4        30          282             1       33             886787.0        0   \n",
       "...     ...          ...           ...      ...                  ...      ...   \n",
       "245720   51          284             3      109            1925586.0        0   \n",
       "245721   27          268             1       15             862952.0        0   \n",
       "245722   26          281             1       13             670659.0        0   \n",
       "245723   28          273             1       31             407504.0        0   \n",
       "245724   29          269             1       21            1129276.0        0   \n",
       "\n",
       "        Gender_Male  Occupation_Other  Occupation_Salaried  \\\n",
       "0               0.0               1.0                  0.0   \n",
       "1               0.0               0.0                  1.0   \n",
       "2               0.0               0.0                  0.0   \n",
       "3               1.0               0.0                  1.0   \n",
       "4               0.0               0.0                  1.0   \n",
       "...             ...               ...                  ...   \n",
       "245720          1.0               0.0                  0.0   \n",
       "245721          1.0               0.0                  1.0   \n",
       "245722          0.0               0.0                  1.0   \n",
       "245723          0.0               0.0                  1.0   \n",
       "245724          1.0               0.0                  1.0   \n",
       "\n",
       "        Occupation_Self_Employed  Is_Active_Yes  Credit_Product_Yes  \\\n",
       "0                            0.0            0.0                 0.0   \n",
       "1                            0.0            0.0                 0.0   \n",
       "2                            1.0            1.0                 0.0   \n",
       "3                            0.0            0.0                 0.0   \n",
       "4                            0.0            0.0                 0.0   \n",
       "...                          ...            ...                 ...   \n",
       "245720                       1.0            0.0                 0.0   \n",
       "245721                       0.0            1.0                 0.0   \n",
       "245722                       0.0            0.0                 0.0   \n",
       "245723                       0.0            0.0                 0.0   \n",
       "245724                       0.0            0.0                 0.0   \n",
       "\n",
       "       Avg_Account_Balance_Binned  \n",
       "0                           1M-3M  \n",
       "1                         500k-1M  \n",
       "2                           1M-3M  \n",
       "3                       100k-500k  \n",
       "4                         500k-1M  \n",
       "...                           ...  \n",
       "245720                      1M-3M  \n",
       "245721                    500k-1M  \n",
       "245722                    500k-1M  \n",
       "245723                  100k-500k  \n",
       "245724                      1M-3M  \n",
       "\n",
       "[245725 rows x 13 columns]"
      ]
     },
     "execution_count": 253,
     "metadata": {},
     "output_type": "execute_result"
    }
   ],
   "source": [
    "outlier_handled_data1"
   ]
  },
  {
   "cell_type": "code",
   "execution_count": null,
   "id": "7b77387e",
   "metadata": {
    "id": "7b77387e"
   },
   "outputs": [],
   "source": [
    "# this step ensures that outliers are \"clipped\" or restricted to the maximum and minimum values allowed within the range defined by the bin bounds."
   ]
  },
  {
   "cell_type": "code",
   "execution_count": null,
   "id": "822bab28",
   "metadata": {
    "id": "822bab28",
    "outputId": "9273259f-0d20-42e7-e987-b77b154d0652"
   },
   "outputs": [
    {
     "data": {
      "text/plain": [
       "2510200.0"
      ]
     },
     "execution_count": 255,
     "metadata": {},
     "output_type": "execute_result"
    }
   ],
   "source": [
    "outlier_handled_data1['Avg_Account_Balance'].max()"
   ]
  },
  {
   "cell_type": "code",
   "execution_count": null,
   "id": "0c83b293",
   "metadata": {
    "id": "0c83b293",
    "outputId": "d0d9ed7b-cbec-42db-8b7d-5705a122935e"
   },
   "outputs": [
    {
     "data": {
      "text/plain": [
       "20790.0"
      ]
     },
     "execution_count": 256,
     "metadata": {},
     "output_type": "execute_result"
    }
   ],
   "source": [
    "outlier_handled_data1['Avg_Account_Balance'].min()"
   ]
  },
  {
   "cell_type": "code",
   "execution_count": null,
   "id": "ee29bd1c",
   "metadata": {
    "id": "ee29bd1c",
    "outputId": "1d425bc4-0fdc-45d3-fd17-283e87c556de"
   },
   "outputs": [
    {
     "data": {
      "text/plain": [
       "Age                              int64\n",
       "Region_Code                      int32\n",
       "Channel_Code                     int32\n",
       "Vintage                          int64\n",
       "Avg_Account_Balance            float64\n",
       "Is_Lead                          int64\n",
       "Gender_Male                    float64\n",
       "Occupation_Other               float64\n",
       "Occupation_Salaried            float64\n",
       "Occupation_Self_Employed       float64\n",
       "Is_Active_Yes                  float64\n",
       "Credit_Product_Yes             float64\n",
       "Avg_Account_Balance_Binned    category\n",
       "dtype: object"
      ]
     },
     "execution_count": 257,
     "metadata": {},
     "output_type": "execute_result"
    }
   ],
   "source": [
    "outlier_handled_data1.dtypes"
   ]
  },
  {
   "cell_type": "code",
   "execution_count": null,
   "id": "f5a5f7b6",
   "metadata": {
    "id": "f5a5f7b6"
   },
   "outputs": [],
   "source": [
    "#avoid multicollinearity issues between the continuous and binned features. drop either of two on basis of  specific machine learning algorithms you plan to use,"
   ]
  },
  {
   "cell_type": "code",
   "execution_count": null,
   "id": "84953f29",
   "metadata": {
    "id": "84953f29",
    "outputId": "81faa5fa-95a2-4024-e404-7ef546fac6a0"
   },
   "outputs": [
    {
     "data": {
      "text/plain": [
       "Text(0.5, 1.0, 'Box plot of Avg_Account_Balance')"
      ]
     },
     "execution_count": 68,
     "metadata": {},
     "output_type": "execute_result"
    },
    {
     "data": {
      "image/png": "[encoded data removed]",
      "text/plain": [
       "<Figure size 432x288 with 1 Axes>"
      ]
     },
     "metadata": {
      "needs_background": "light"
     },
     "output_type": "display_data"
    }
   ],
   "source": [
    "plt.boxplot(outlier_handled_data1['Avg_Account_Balance'])\n",
    "plt.title('Box plot of Avg_Account_Balance')"
   ]
  },
  {
   "cell_type": "code",
   "execution_count": null,
   "id": "8520a0a4",
   "metadata": {
    "id": "8520a0a4",
    "outputId": "37133818-f485-4ac5-abda-2356894f3789"
   },
   "outputs": [
    {
     "data": {
      "image/png": "[encoded data removed]",
      "text/plain": [
       "<Figure size 720x432 with 1 Axes>"
      ]
     },
     "metadata": {
      "needs_background": "light"
     },
     "output_type": "display_data"
    }
   ],
   "source": [
    "plt.figure(figsize=(10, 6))\n",
    "sns.histplot(outlier_handled_data1['Avg_Account_Balance'], bins=40, kde=True)\n",
    "plt.xlabel('Average Account Balance')\n",
    "plt.ylabel('Count')\n",
    "plt.title('Distribution of Average Account Balance')\n",
    "plt.show()"
   ]
  },
  {
   "cell_type": "code",
   "execution_count": null,
   "id": "7ae21ffc",
   "metadata": {
    "id": "7ae21ffc"
   },
   "outputs": [],
   "source": [
    "#IMPUTATION"
   ]
  },
  {
   "cell_type": "code",
   "execution_count": null,
   "id": "08deaa12",
   "metadata": {
    "id": "08deaa12"
   },
   "outputs": [],
   "source": [
    "\n",
    "# Create a copy of the original DataFrame for imputation\n",
    "imputed_data = data.copy()\n",
    "\n",
    "# Select the column to handle outliers ('Avg_Account_Balance' in this case)\n",
    "column_name = 'Avg_Account_Balance'\n",
    "\n",
    "# Calculate the median of the column excluding outliers\n",
    "median_value = imputed_data[ 'Avg_Account_Balance'].median()\n",
    "\n",
    "# Define the threshold for outlier detection (customize this based on your data)\n",
    "outlier_threshold = 1    #NO IDEA HOW TO FIX THIS (2/3 NOT RECMMENDED IF RIGHT SKEWED DATA)\n",
    "\n",
    "# Detect outliers using the z-score method and replace them with the median value\n",
    "z_scores = (imputed_data['Avg_Account_Balance'] - median_value) / imputed_data['Avg_Account_Balance'].std()\n",
    "imputed_data['Avg_Account_Balance'] = imputed_data['Avg_Account_Balance'].where(abs(z_scores) < outlier_threshold, median_value)\n",
    "\n"
   ]
  },
  {
   "cell_type": "code",
   "execution_count": null,
   "id": "19c10b0f",
   "metadata": {
    "id": "19c10b0f",
    "outputId": "104a144b-1a0a-44a2-ffb8-489e753c2ae8"
   },
   "outputs": [
    {
     "data": {
      "text/plain": [
       "0         0.177147\n",
       "1        -0.366514\n",
       "2         0.691393\n",
       "3        -0.497279\n",
       "4        -0.009161\n",
       "            ...   \n",
       "245720    1.208748\n",
       "245721   -0.037106\n",
       "245722   -0.262554\n",
       "245723   -0.571082\n",
       "245724    0.275138\n",
       "Name: Avg_Account_Balance, Length: 245725, dtype: float64"
      ]
     },
     "execution_count": 262,
     "metadata": {},
     "output_type": "execute_result"
    }
   ],
   "source": [
    "z_scores"
   ]
  },
  {
   "cell_type": "code",
   "execution_count": null,
   "id": "9b1a1d9c",
   "metadata": {
    "id": "9b1a1d9c",
    "outputId": "b6d414f3-1790-4bdd-dabf-eec95cd8979a"
   },
   "outputs": [
    {
     "name": "stdout",
     "output_type": "stream",
     "text": [
      "        Age  Region_Code  Channel_Code  Vintage  Avg_Account_Balance  Is_Lead  \\\n",
      "9        55          268             2       49             894601.0        0   \n",
      "16       46          268             3       97             894601.0        1   \n",
      "17       59          283             3       15             894601.0        1   \n",
      "35       29          284             1       26             894601.0        0   \n",
      "43       61          254             2      103             894601.0        1   \n",
      "...     ...          ...           ...      ...                  ...      ...   \n",
      "245665   44          281             3       92             894601.0        1   \n",
      "245672   35          268             1       32             894601.0        0   \n",
      "245676   35          253             2       61             894601.0        0   \n",
      "245701   32          277             1       13             894601.0        0   \n",
      "245720   51          284             3      109             894601.0        0   \n",
      "\n",
      "        Gender_Male  Occupation_Other  Occupation_Salaried  \\\n",
      "9               0.0               0.0                  0.0   \n",
      "16              0.0               1.0                  0.0   \n",
      "17              0.0               1.0                  0.0   \n",
      "35              0.0               0.0                  1.0   \n",
      "43              1.0               0.0                  0.0   \n",
      "...             ...               ...                  ...   \n",
      "245665          1.0               0.0                  0.0   \n",
      "245672          0.0               0.0                  1.0   \n",
      "245676          1.0               0.0                  0.0   \n",
      "245701          1.0               0.0                  1.0   \n",
      "245720          1.0               0.0                  0.0   \n",
      "\n",
      "        Occupation_Self_Employed  Is_Active_Yes  Credit_Product_Yes  \n",
      "9                            1.0            0.0                 1.0  \n",
      "16                           0.0            0.0                 1.0  \n",
      "17                           0.0            0.0                 1.0  \n",
      "35                           0.0            0.0                 0.0  \n",
      "43                           1.0            1.0                 1.0  \n",
      "...                          ...            ...                 ...  \n",
      "245665                       1.0            0.0                 1.0  \n",
      "245672                       0.0            0.0                 1.0  \n",
      "245676                       1.0            1.0                 0.0  \n",
      "245701                       0.0            0.0                 1.0  \n",
      "245720                       1.0            0.0                 0.0  \n",
      "\n",
      "[36263 rows x 12 columns]\n"
     ]
    }
   ],
   "source": [
    "# Find the outliers using the Z-Score method\n",
    "outliers = imputed_data[abs(z_scores) > outlier_threshold]\n",
    "\n",
    "# Display the rows containing the outliers\n",
    "print(outliers)"
   ]
  },
  {
   "cell_type": "code",
   "execution_count": null,
   "id": "235955c4",
   "metadata": {
    "id": "235955c4",
    "outputId": "3ac03788-2ccd-4ce5-828c-6fe45f2d3771"
   },
   "outputs": [
    {
     "data": {
      "text/plain": [
       "894601.0"
      ]
     },
     "execution_count": 264,
     "metadata": {},
     "output_type": "execute_result"
    }
   ],
   "source": [
    "median_value"
   ]
  },
  {
   "cell_type": "code",
   "execution_count": null,
   "id": "aa4e5d87",
   "metadata": {
    "id": "aa4e5d87",
    "outputId": "8a3466c9-0ca5-4e34-cc98-ddd255bb870c"
   },
   "outputs": [
    {
     "data": {
      "text/html": [
       "<div>\n",
       "<style scoped>\n",
       "    .dataframe tbody tr th:only-of-type {\n",
       "        vertical-align: middle;\n",
       "    }\n",
       "\n",
       "    .dataframe tbody tr th {\n",
       "        vertical-align: top;\n",
       "    }\n",
       "\n",
       "    .dataframe thead th {\n",
       "        text-align: right;\n",
       "    }\n",
       "</style>\n",
       "<table border=\"1\" class=\"dataframe\">\n",
       "  <thead>\n",
       "    <tr style=\"text-align: right;\">\n",
       "      <th></th>\n",
       "      <th>Age</th>\n",
       "      <th>Region_Code</th>\n",
       "      <th>Channel_Code</th>\n",
       "      <th>Vintage</th>\n",
       "      <th>Avg_Account_Balance</th>\n",
       "      <th>Is_Lead</th>\n",
       "      <th>Gender_Male</th>\n",
       "      <th>Occupation_Other</th>\n",
       "      <th>Occupation_Salaried</th>\n",
       "      <th>Occupation_Self_Employed</th>\n",
       "      <th>Is_Active_Yes</th>\n",
       "      <th>Credit_Product_Yes</th>\n",
       "    </tr>\n",
       "  </thead>\n",
       "  <tbody>\n",
       "    <tr>\n",
       "      <th>0</th>\n",
       "      <td>73</td>\n",
       "      <td>268</td>\n",
       "      <td>3</td>\n",
       "      <td>43</td>\n",
       "      <td>1045696.0</td>\n",
       "      <td>0</td>\n",
       "      <td>0.0</td>\n",
       "      <td>1.0</td>\n",
       "      <td>0.0</td>\n",
       "      <td>0.0</td>\n",
       "      <td>0.0</td>\n",
       "      <td>0.0</td>\n",
       "    </tr>\n",
       "    <tr>\n",
       "      <th>1</th>\n",
       "      <td>30</td>\n",
       "      <td>277</td>\n",
       "      <td>1</td>\n",
       "      <td>32</td>\n",
       "      <td>581988.0</td>\n",
       "      <td>0</td>\n",
       "      <td>0.0</td>\n",
       "      <td>0.0</td>\n",
       "      <td>1.0</td>\n",
       "      <td>0.0</td>\n",
       "      <td>0.0</td>\n",
       "      <td>0.0</td>\n",
       "    </tr>\n",
       "    <tr>\n",
       "      <th>2</th>\n",
       "      <td>56</td>\n",
       "      <td>268</td>\n",
       "      <td>3</td>\n",
       "      <td>26</td>\n",
       "      <td>1484315.0</td>\n",
       "      <td>0</td>\n",
       "      <td>0.0</td>\n",
       "      <td>0.0</td>\n",
       "      <td>0.0</td>\n",
       "      <td>1.0</td>\n",
       "      <td>1.0</td>\n",
       "      <td>0.0</td>\n",
       "    </tr>\n",
       "    <tr>\n",
       "      <th>3</th>\n",
       "      <td>34</td>\n",
       "      <td>270</td>\n",
       "      <td>1</td>\n",
       "      <td>19</td>\n",
       "      <td>470454.0</td>\n",
       "      <td>0</td>\n",
       "      <td>1.0</td>\n",
       "      <td>0.0</td>\n",
       "      <td>1.0</td>\n",
       "      <td>0.0</td>\n",
       "      <td>0.0</td>\n",
       "      <td>0.0</td>\n",
       "    </tr>\n",
       "    <tr>\n",
       "      <th>4</th>\n",
       "      <td>30</td>\n",
       "      <td>282</td>\n",
       "      <td>1</td>\n",
       "      <td>33</td>\n",
       "      <td>886787.0</td>\n",
       "      <td>0</td>\n",
       "      <td>0.0</td>\n",
       "      <td>0.0</td>\n",
       "      <td>1.0</td>\n",
       "      <td>0.0</td>\n",
       "      <td>0.0</td>\n",
       "      <td>0.0</td>\n",
       "    </tr>\n",
       "    <tr>\n",
       "      <th>...</th>\n",
       "      <td>...</td>\n",
       "      <td>...</td>\n",
       "      <td>...</td>\n",
       "      <td>...</td>\n",
       "      <td>...</td>\n",
       "      <td>...</td>\n",
       "      <td>...</td>\n",
       "      <td>...</td>\n",
       "      <td>...</td>\n",
       "      <td>...</td>\n",
       "      <td>...</td>\n",
       "      <td>...</td>\n",
       "    </tr>\n",
       "    <tr>\n",
       "      <th>245720</th>\n",
       "      <td>51</td>\n",
       "      <td>284</td>\n",
       "      <td>3</td>\n",
       "      <td>109</td>\n",
       "      <td>894601.0</td>\n",
       "      <td>0</td>\n",
       "      <td>1.0</td>\n",
       "      <td>0.0</td>\n",
       "      <td>0.0</td>\n",
       "      <td>1.0</td>\n",
       "      <td>0.0</td>\n",
       "      <td>0.0</td>\n",
       "    </tr>\n",
       "    <tr>\n",
       "      <th>245721</th>\n",
       "      <td>27</td>\n",
       "      <td>268</td>\n",
       "      <td>1</td>\n",
       "      <td>15</td>\n",
       "      <td>862952.0</td>\n",
       "      <td>0</td>\n",
       "      <td>1.0</td>\n",
       "      <td>0.0</td>\n",
       "      <td>1.0</td>\n",
       "      <td>0.0</td>\n",
       "      <td>1.0</td>\n",
       "      <td>0.0</td>\n",
       "    </tr>\n",
       "    <tr>\n",
       "      <th>245722</th>\n",
       "      <td>26</td>\n",
       "      <td>281</td>\n",
       "      <td>1</td>\n",
       "      <td>13</td>\n",
       "      <td>670659.0</td>\n",
       "      <td>0</td>\n",
       "      <td>0.0</td>\n",
       "      <td>0.0</td>\n",
       "      <td>1.0</td>\n",
       "      <td>0.0</td>\n",
       "      <td>0.0</td>\n",
       "      <td>0.0</td>\n",
       "    </tr>\n",
       "    <tr>\n",
       "      <th>245723</th>\n",
       "      <td>28</td>\n",
       "      <td>273</td>\n",
       "      <td>1</td>\n",
       "      <td>31</td>\n",
       "      <td>407504.0</td>\n",
       "      <td>0</td>\n",
       "      <td>0.0</td>\n",
       "      <td>0.0</td>\n",
       "      <td>1.0</td>\n",
       "      <td>0.0</td>\n",
       "      <td>0.0</td>\n",
       "      <td>0.0</td>\n",
       "    </tr>\n",
       "    <tr>\n",
       "      <th>245724</th>\n",
       "      <td>29</td>\n",
       "      <td>269</td>\n",
       "      <td>1</td>\n",
       "      <td>21</td>\n",
       "      <td>1129276.0</td>\n",
       "      <td>0</td>\n",
       "      <td>1.0</td>\n",
       "      <td>0.0</td>\n",
       "      <td>1.0</td>\n",
       "      <td>0.0</td>\n",
       "      <td>0.0</td>\n",
       "      <td>0.0</td>\n",
       "    </tr>\n",
       "  </tbody>\n",
       "</table>\n",
       "<p>245725 rows × 12 columns</p>\n",
       "</div>"
      ],
      "text/plain": [
       "        Age  Region_Code  Channel_Code  Vintage  Avg_Account_Balance  Is_Lead  \\\n",
       "0        73          268             3       43            1045696.0        0   \n",
       "1        30          277             1       32             581988.0        0   \n",
       "2        56          268             3       26            1484315.0        0   \n",
       "3        34          270             1       19             470454.0        0   \n",
       "4        30          282             1       33             886787.0        0   \n",
       "...     ...          ...           ...      ...                  ...      ...   \n",
       "245720   51          284             3      109             894601.0        0   \n",
       "245721   27          268             1       15             862952.0        0   \n",
       "245722   26          281             1       13             670659.0        0   \n",
       "245723   28          273             1       31             407504.0        0   \n",
       "245724   29          269             1       21            1129276.0        0   \n",
       "\n",
       "        Gender_Male  Occupation_Other  Occupation_Salaried  \\\n",
       "0               0.0               1.0                  0.0   \n",
       "1               0.0               0.0                  1.0   \n",
       "2               0.0               0.0                  0.0   \n",
       "3               1.0               0.0                  1.0   \n",
       "4               0.0               0.0                  1.0   \n",
       "...             ...               ...                  ...   \n",
       "245720          1.0               0.0                  0.0   \n",
       "245721          1.0               0.0                  1.0   \n",
       "245722          0.0               0.0                  1.0   \n",
       "245723          0.0               0.0                  1.0   \n",
       "245724          1.0               0.0                  1.0   \n",
       "\n",
       "        Occupation_Self_Employed  Is_Active_Yes  Credit_Product_Yes  \n",
       "0                            0.0            0.0                 0.0  \n",
       "1                            0.0            0.0                 0.0  \n",
       "2                            1.0            1.0                 0.0  \n",
       "3                            0.0            0.0                 0.0  \n",
       "4                            0.0            0.0                 0.0  \n",
       "...                          ...            ...                 ...  \n",
       "245720                       1.0            0.0                 0.0  \n",
       "245721                       0.0            1.0                 0.0  \n",
       "245722                       0.0            0.0                 0.0  \n",
       "245723                       0.0            0.0                 0.0  \n",
       "245724                       0.0            0.0                 0.0  \n",
       "\n",
       "[245725 rows x 12 columns]"
      ]
     },
     "execution_count": 265,
     "metadata": {},
     "output_type": "execute_result"
    }
   ],
   "source": [
    "imputed_data"
   ]
  },
  {
   "cell_type": "code",
   "execution_count": null,
   "id": "7a8c3e0c",
   "metadata": {
    "id": "7a8c3e0c"
   },
   "outputs": [],
   "source": [
    "count_target_value = (imputed_data['Avg_Account_Balance'] == median_value).sum()\n"
   ]
  },
  {
   "cell_type": "code",
   "execution_count": null,
   "id": "e6c237cb",
   "metadata": {
    "id": "e6c237cb",
    "outputId": "d54f8609-60ca-4742-fd52-a78d6b9b3f45"
   },
   "outputs": [
    {
     "data": {
      "text/plain": [
       "36270"
      ]
     },
     "execution_count": 267,
     "metadata": {},
     "output_type": "execute_result"
    }
   ],
   "source": [
    "count_target_value"
   ]
  },
  {
   "cell_type": "code",
   "execution_count": null,
   "id": "8cf42f4b",
   "metadata": {
    "id": "8cf42f4b",
    "outputId": "f19f914b-0df2-414c-c56a-e48266a04524"
   },
   "outputs": [
    {
     "data": {
      "text/plain": [
       "Text(0.5, 1.0, 'Boxplot of Avg_Account_Balance')"
      ]
     },
     "execution_count": 268,
     "metadata": {},
     "output_type": "execute_result"
    },
    {
     "data": {
      "image/png": "[encoded data removed]",
      "text/plain": [
       "<Figure size 720x432 with 1 Axes>"
      ]
     },
     "metadata": {
      "needs_background": "light"
     },
     "output_type": "display_data"
    }
   ],
   "source": [
    "plt.boxplot(imputed_data['Avg_Account_Balance'])\n",
    "plt.title(\"Boxplot of Avg_Account_Balance\")"
   ]
  },
  {
   "cell_type": "code",
   "execution_count": null,
   "id": "04dfd585",
   "metadata": {
    "id": "04dfd585",
    "outputId": "41181b91-167d-4f42-f4f4-a62b829beb69"
   },
   "outputs": [
    {
     "data": {
      "image/png": "[encoded data removed]",
      "text/plain": [
       "<Figure size 720x432 with 1 Axes>"
      ]
     },
     "metadata": {
      "needs_background": "light"
     },
     "output_type": "display_data"
    }
   ],
   "source": [
    "plt.figure(figsize=(10, 6))\n",
    "sns.histplot(imputed_data['Avg_Account_Balance'], bins=40, kde=True)\n",
    "plt.xlabel('Average Account Balance')\n",
    "plt.ylabel('Count')\n",
    "plt.title('Distribution of Average Account Balance')\n",
    "plt.show()"
   ]
  },
  {
   "cell_type": "code",
   "execution_count": null,
   "id": "14de0bfc",
   "metadata": {
    "id": "14de0bfc"
   },
   "outputs": [],
   "source": [
    "#imputation 2"
   ]
  },
  {
   "cell_type": "code",
   "execution_count": null,
   "id": "e1e164e3",
   "metadata": {
    "id": "e1e164e3"
   },
   "outputs": [],
   "source": [
    "# Create a copy of the original DataFrame for imputation\n",
    "imputed_data1 = data.copy()\n",
    "\n",
    "# Select the column to handle outliers ('Avg_Account_Balance' in this case)\n",
    "column_name = 'Avg_Account_Balance'\n",
    "\n",
    "# Calculate the first quartile (25th percentile) and third quartile (75th percentile) of the column\n",
    "Q1 = imputed_data1[column_name].quantile(0.25)\n",
    "Q3 = imputed_data1[column_name].quantile(0.75)\n",
    "\n",
    "# Calculate the Interquartile Range (IQR)\n",
    "IQR = Q3 - Q1\n",
    "\n",
    "# Define the lower and upper bounds for outlier detection\n",
    "lower_bound = Q1 - 1.5 * IQR\n",
    "upper_bound = Q3 + 1.5 * IQR\n",
    "\n",
    "# Replace outliers with the median value\n",
    "median_value = imputed_data1[column_name].median()\n",
    "imputed_data1[column_name] = imputed_data1[column_name].where((imputed_data1[column_name] >= lower_bound) & (imputed_data1[column_name] <= upper_bound), median_value)\n"
   ]
  },
  {
   "cell_type": "code",
   "execution_count": null,
   "id": "c07cb44e",
   "metadata": {
    "id": "c07cb44e",
    "outputId": "0c1f87e7-1e3a-40a5-92cf-33e1206e347e"
   },
   "outputs": [
    {
     "data": {
      "text/html": [
       "<div>\n",
       "<style scoped>\n",
       "    .dataframe tbody tr th:only-of-type {\n",
       "        vertical-align: middle;\n",
       "    }\n",
       "\n",
       "    .dataframe tbody tr th {\n",
       "        vertical-align: top;\n",
       "    }\n",
       "\n",
       "    .dataframe thead th {\n",
       "        text-align: right;\n",
       "    }\n",
       "</style>\n",
       "<table border=\"1\" class=\"dataframe\">\n",
       "  <thead>\n",
       "    <tr style=\"text-align: right;\">\n",
       "      <th></th>\n",
       "      <th>Age</th>\n",
       "      <th>Region_Code</th>\n",
       "      <th>Channel_Code</th>\n",
       "      <th>Vintage</th>\n",
       "      <th>Avg_Account_Balance</th>\n",
       "      <th>Is_Lead</th>\n",
       "      <th>Gender_Male</th>\n",
       "      <th>Occupation_Other</th>\n",
       "      <th>Occupation_Salaried</th>\n",
       "      <th>Occupation_Self_Employed</th>\n",
       "      <th>Is_Active_Yes</th>\n",
       "      <th>Credit_Product_Yes</th>\n",
       "    </tr>\n",
       "  </thead>\n",
       "  <tbody>\n",
       "    <tr>\n",
       "      <th>0</th>\n",
       "      <td>73</td>\n",
       "      <td>268</td>\n",
       "      <td>3</td>\n",
       "      <td>43</td>\n",
       "      <td>1045696.0</td>\n",
       "      <td>0</td>\n",
       "      <td>0.0</td>\n",
       "      <td>1.0</td>\n",
       "      <td>0.0</td>\n",
       "      <td>0.0</td>\n",
       "      <td>0.0</td>\n",
       "      <td>0.0</td>\n",
       "    </tr>\n",
       "    <tr>\n",
       "      <th>1</th>\n",
       "      <td>30</td>\n",
       "      <td>277</td>\n",
       "      <td>1</td>\n",
       "      <td>32</td>\n",
       "      <td>581988.0</td>\n",
       "      <td>0</td>\n",
       "      <td>0.0</td>\n",
       "      <td>0.0</td>\n",
       "      <td>1.0</td>\n",
       "      <td>0.0</td>\n",
       "      <td>0.0</td>\n",
       "      <td>0.0</td>\n",
       "    </tr>\n",
       "    <tr>\n",
       "      <th>2</th>\n",
       "      <td>56</td>\n",
       "      <td>268</td>\n",
       "      <td>3</td>\n",
       "      <td>26</td>\n",
       "      <td>1484315.0</td>\n",
       "      <td>0</td>\n",
       "      <td>0.0</td>\n",
       "      <td>0.0</td>\n",
       "      <td>0.0</td>\n",
       "      <td>1.0</td>\n",
       "      <td>1.0</td>\n",
       "      <td>0.0</td>\n",
       "    </tr>\n",
       "    <tr>\n",
       "      <th>3</th>\n",
       "      <td>34</td>\n",
       "      <td>270</td>\n",
       "      <td>1</td>\n",
       "      <td>19</td>\n",
       "      <td>470454.0</td>\n",
       "      <td>0</td>\n",
       "      <td>1.0</td>\n",
       "      <td>0.0</td>\n",
       "      <td>1.0</td>\n",
       "      <td>0.0</td>\n",
       "      <td>0.0</td>\n",
       "      <td>0.0</td>\n",
       "    </tr>\n",
       "    <tr>\n",
       "      <th>4</th>\n",
       "      <td>30</td>\n",
       "      <td>282</td>\n",
       "      <td>1</td>\n",
       "      <td>33</td>\n",
       "      <td>886787.0</td>\n",
       "      <td>0</td>\n",
       "      <td>0.0</td>\n",
       "      <td>0.0</td>\n",
       "      <td>1.0</td>\n",
       "      <td>0.0</td>\n",
       "      <td>0.0</td>\n",
       "      <td>0.0</td>\n",
       "    </tr>\n",
       "    <tr>\n",
       "      <th>...</th>\n",
       "      <td>...</td>\n",
       "      <td>...</td>\n",
       "      <td>...</td>\n",
       "      <td>...</td>\n",
       "      <td>...</td>\n",
       "      <td>...</td>\n",
       "      <td>...</td>\n",
       "      <td>...</td>\n",
       "      <td>...</td>\n",
       "      <td>...</td>\n",
       "      <td>...</td>\n",
       "      <td>...</td>\n",
       "    </tr>\n",
       "    <tr>\n",
       "      <th>245720</th>\n",
       "      <td>51</td>\n",
       "      <td>284</td>\n",
       "      <td>3</td>\n",
       "      <td>109</td>\n",
       "      <td>1925586.0</td>\n",
       "      <td>0</td>\n",
       "      <td>1.0</td>\n",
       "      <td>0.0</td>\n",
       "      <td>0.0</td>\n",
       "      <td>1.0</td>\n",
       "      <td>0.0</td>\n",
       "      <td>0.0</td>\n",
       "    </tr>\n",
       "    <tr>\n",
       "      <th>245721</th>\n",
       "      <td>27</td>\n",
       "      <td>268</td>\n",
       "      <td>1</td>\n",
       "      <td>15</td>\n",
       "      <td>862952.0</td>\n",
       "      <td>0</td>\n",
       "      <td>1.0</td>\n",
       "      <td>0.0</td>\n",
       "      <td>1.0</td>\n",
       "      <td>0.0</td>\n",
       "      <td>1.0</td>\n",
       "      <td>0.0</td>\n",
       "    </tr>\n",
       "    <tr>\n",
       "      <th>245722</th>\n",
       "      <td>26</td>\n",
       "      <td>281</td>\n",
       "      <td>1</td>\n",
       "      <td>13</td>\n",
       "      <td>670659.0</td>\n",
       "      <td>0</td>\n",
       "      <td>0.0</td>\n",
       "      <td>0.0</td>\n",
       "      <td>1.0</td>\n",
       "      <td>0.0</td>\n",
       "      <td>0.0</td>\n",
       "      <td>0.0</td>\n",
       "    </tr>\n",
       "    <tr>\n",
       "      <th>245723</th>\n",
       "      <td>28</td>\n",
       "      <td>273</td>\n",
       "      <td>1</td>\n",
       "      <td>31</td>\n",
       "      <td>407504.0</td>\n",
       "      <td>0</td>\n",
       "      <td>0.0</td>\n",
       "      <td>0.0</td>\n",
       "      <td>1.0</td>\n",
       "      <td>0.0</td>\n",
       "      <td>0.0</td>\n",
       "      <td>0.0</td>\n",
       "    </tr>\n",
       "    <tr>\n",
       "      <th>245724</th>\n",
       "      <td>29</td>\n",
       "      <td>269</td>\n",
       "      <td>1</td>\n",
       "      <td>21</td>\n",
       "      <td>1129276.0</td>\n",
       "      <td>0</td>\n",
       "      <td>1.0</td>\n",
       "      <td>0.0</td>\n",
       "      <td>1.0</td>\n",
       "      <td>0.0</td>\n",
       "      <td>0.0</td>\n",
       "      <td>0.0</td>\n",
       "    </tr>\n",
       "  </tbody>\n",
       "</table>\n",
       "<p>245725 rows × 12 columns</p>\n",
       "</div>"
      ],
      "text/plain": [
       "        Age  Region_Code  Channel_Code  Vintage  Avg_Account_Balance  Is_Lead  \\\n",
       "0        73          268             3       43            1045696.0        0   \n",
       "1        30          277             1       32             581988.0        0   \n",
       "2        56          268             3       26            1484315.0        0   \n",
       "3        34          270             1       19             470454.0        0   \n",
       "4        30          282             1       33             886787.0        0   \n",
       "...     ...          ...           ...      ...                  ...      ...   \n",
       "245720   51          284             3      109            1925586.0        0   \n",
       "245721   27          268             1       15             862952.0        0   \n",
       "245722   26          281             1       13             670659.0        0   \n",
       "245723   28          273             1       31             407504.0        0   \n",
       "245724   29          269             1       21            1129276.0        0   \n",
       "\n",
       "        Gender_Male  Occupation_Other  Occupation_Salaried  \\\n",
       "0               0.0               1.0                  0.0   \n",
       "1               0.0               0.0                  1.0   \n",
       "2               0.0               0.0                  0.0   \n",
       "3               1.0               0.0                  1.0   \n",
       "4               0.0               0.0                  1.0   \n",
       "...             ...               ...                  ...   \n",
       "245720          1.0               0.0                  0.0   \n",
       "245721          1.0               0.0                  1.0   \n",
       "245722          0.0               0.0                  1.0   \n",
       "245723          0.0               0.0                  1.0   \n",
       "245724          1.0               0.0                  1.0   \n",
       "\n",
       "        Occupation_Self_Employed  Is_Active_Yes  Credit_Product_Yes  \n",
       "0                            0.0            0.0                 0.0  \n",
       "1                            0.0            0.0                 0.0  \n",
       "2                            1.0            1.0                 0.0  \n",
       "3                            0.0            0.0                 0.0  \n",
       "4                            0.0            0.0                 0.0  \n",
       "...                          ...            ...                 ...  \n",
       "245720                       1.0            0.0                 0.0  \n",
       "245721                       0.0            1.0                 0.0  \n",
       "245722                       0.0            0.0                 0.0  \n",
       "245723                       0.0            0.0                 0.0  \n",
       "245724                       0.0            0.0                 0.0  \n",
       "\n",
       "[245725 rows x 12 columns]"
      ]
     },
     "execution_count": 273,
     "metadata": {},
     "output_type": "execute_result"
    }
   ],
   "source": [
    "imputed_data1"
   ]
  },
  {
   "cell_type": "code",
   "execution_count": null,
   "id": "3d47254d",
   "metadata": {
    "id": "3d47254d",
    "outputId": "82c34757-7317-47b8-e2dd-a0eb5d117cd3"
   },
   "outputs": [
    {
     "data": {
      "text/plain": [
       "894601.0"
      ]
     },
     "execution_count": 274,
     "metadata": {},
     "output_type": "execute_result"
    }
   ],
   "source": [
    "median_value"
   ]
  },
  {
   "cell_type": "code",
   "execution_count": null,
   "id": "72932cd6",
   "metadata": {
    "id": "72932cd6",
    "outputId": "85557932-940e-4bfd-dd70-74ef0e6cfb11"
   },
   "outputs": [
    {
     "data": {
      "text/plain": [
       "-539224.0"
      ]
     },
     "execution_count": 275,
     "metadata": {},
     "output_type": "execute_result"
    }
   ],
   "source": [
    "lower_bound"
   ]
  },
  {
   "cell_type": "code",
   "execution_count": null,
   "id": "02e6175b",
   "metadata": {
    "id": "02e6175b",
    "outputId": "8e9bde73-2a24-4fad-8380-b1fcf3d4402a"
   },
   "outputs": [
    {
     "data": {
      "text/plain": [
       "2510200.0"
      ]
     },
     "execution_count": 276,
     "metadata": {},
     "output_type": "execute_result"
    }
   ],
   "source": [
    "upper_bound"
   ]
  },
  {
   "cell_type": "code",
   "execution_count": null,
   "id": "20756289",
   "metadata": {
    "id": "20756289",
    "outputId": "5887e146-8883-4a73-92e0-0e3b1a16ae1b"
   },
   "outputs": [
    {
     "data": {
      "text/plain": [
       "2509800.0"
      ]
     },
     "execution_count": 277,
     "metadata": {},
     "output_type": "execute_result"
    }
   ],
   "source": [
    "imputed_data1['Avg_Account_Balance'].max()"
   ]
  },
  {
   "cell_type": "code",
   "execution_count": null,
   "id": "eab54d31",
   "metadata": {
    "id": "eab54d31",
    "outputId": "4f683607-1e45-45fa-fa33-a015db7a077f"
   },
   "outputs": [
    {
     "data": {
      "text/plain": [
       "20790.0"
      ]
     },
     "execution_count": 278,
     "metadata": {},
     "output_type": "execute_result"
    }
   ],
   "source": [
    "imputed_data1['Avg_Account_Balance'].min()"
   ]
  },
  {
   "cell_type": "code",
   "execution_count": null,
   "id": "03268019",
   "metadata": {
    "id": "03268019"
   },
   "outputs": [],
   "source": [
    "count_target_value = (imputed_data1['Avg_Account_Balance'] == median_value).sum()\n",
    "#This count represents the number of occurrences of the median_value in the 'Avg_Account_Balance' column."
   ]
  },
  {
   "cell_type": "code",
   "execution_count": null,
   "id": "e07f0c3b",
   "metadata": {
    "id": "e07f0c3b",
    "outputId": "a9cea11b-0532-4263-8e20-f44c3cddafcb"
   },
   "outputs": [
    {
     "data": {
      "text/plain": [
       "14619"
      ]
     },
     "execution_count": 280,
     "metadata": {},
     "output_type": "execute_result"
    }
   ],
   "source": [
    "count_target_value"
   ]
  },
  {
   "cell_type": "code",
   "execution_count": null,
   "id": "57cf17fe",
   "metadata": {
    "id": "57cf17fe",
    "outputId": "c4389d03-62a1-4210-8211-92e190e0746b"
   },
   "outputs": [
    {
     "data": {
      "text/plain": [
       "Text(0.5, 1.0, 'Boxplot of Avg_Account_Balance')"
      ]
     },
     "execution_count": 281,
     "metadata": {},
     "output_type": "execute_result"
    },
    {
     "data": {
      "image/png": "[encoded data removed]",
      "text/plain": [
       "<Figure size 720x432 with 1 Axes>"
      ]
     },
     "metadata": {
      "needs_background": "light"
     },
     "output_type": "display_data"
    }
   ],
   "source": [
    "plt.boxplot(imputed_data1['Avg_Account_Balance'])\n",
    "plt.title(\"Boxplot of Avg_Account_Balance\")"
   ]
  },
  {
   "cell_type": "code",
   "execution_count": null,
   "id": "a415ea57",
   "metadata": {
    "id": "a415ea57",
    "outputId": "c9cd3340-742b-4476-de66-97da309345c0"
   },
   "outputs": [
    {
     "data": {
      "image/png": "[encoded data removed]",
      "text/plain": [
       "<Figure size 720x432 with 1 Axes>"
      ]
     },
     "metadata": {
      "needs_background": "light"
     },
     "output_type": "display_data"
    }
   ],
   "source": [
    "plt.figure(figsize=(10, 6))\n",
    "sns.histplot(imputed_data1['Avg_Account_Balance'], bins=40, kde=True)\n",
    "plt.xlabel('Average Account Balance')\n",
    "plt.ylabel('Count')\n",
    "plt.title('Distribution of Average Account Balance')\n",
    "plt.show()"
   ]
  },
  {
   "cell_type": "code",
   "execution_count": null,
   "id": "2a42343f",
   "metadata": {
    "id": "2a42343f"
   },
   "outputs": [],
   "source": [
    "#capping and flooring\n",
    "duplicate_data = data.copy()\n",
    "# Select the column to handle outliers ('Avg_Account_Balance' in this case)\n",
    "column_name = 'Avg_Account_Balance'\n",
    "\n",
    "# Define the lower and upper bounds for capping\n",
    "lower_bound = 20000  # Replace with your desired lower bound\n",
    "upper_bound = 8000000  # Replace with your desired upper bound\n",
    "\n",
    "# Apply capping to the 'Avg_Account_Balance' column\n",
    "duplicate_data['Avg_Account_Balance'] = duplicate_data['Avg_Account_Balance'].clip(lower_bound, upper_bound)\n",
    "\n"
   ]
  },
  {
   "cell_type": "code",
   "execution_count": null,
   "id": "bbe12e95",
   "metadata": {
    "id": "bbe12e95",
    "outputId": "c8d172d8-0c13-4824-dc95-6e2c400d92b9"
   },
   "outputs": [
    {
     "data": {
      "text/html": [
       "<div>\n",
       "<style scoped>\n",
       "    .dataframe tbody tr th:only-of-type {\n",
       "        vertical-align: middle;\n",
       "    }\n",
       "\n",
       "    .dataframe tbody tr th {\n",
       "        vertical-align: top;\n",
       "    }\n",
       "\n",
       "    .dataframe thead th {\n",
       "        text-align: right;\n",
       "    }\n",
       "</style>\n",
       "<table border=\"1\" class=\"dataframe\">\n",
       "  <thead>\n",
       "    <tr style=\"text-align: right;\">\n",
       "      <th></th>\n",
       "      <th>Age</th>\n",
       "      <th>Region_Code</th>\n",
       "      <th>Channel_Code</th>\n",
       "      <th>Vintage</th>\n",
       "      <th>Avg_Account_Balance</th>\n",
       "      <th>Is_Lead</th>\n",
       "      <th>Gender_Male</th>\n",
       "      <th>Occupation_Other</th>\n",
       "      <th>Occupation_Salaried</th>\n",
       "      <th>Occupation_Self_Employed</th>\n",
       "      <th>Is_Active_Yes</th>\n",
       "      <th>Credit_Product_Yes</th>\n",
       "    </tr>\n",
       "  </thead>\n",
       "  <tbody>\n",
       "    <tr>\n",
       "      <th>0</th>\n",
       "      <td>73</td>\n",
       "      <td>268</td>\n",
       "      <td>3</td>\n",
       "      <td>43</td>\n",
       "      <td>1045696</td>\n",
       "      <td>0</td>\n",
       "      <td>0.0</td>\n",
       "      <td>1.0</td>\n",
       "      <td>0.0</td>\n",
       "      <td>0.0</td>\n",
       "      <td>0.0</td>\n",
       "      <td>0.0</td>\n",
       "    </tr>\n",
       "    <tr>\n",
       "      <th>1</th>\n",
       "      <td>30</td>\n",
       "      <td>277</td>\n",
       "      <td>1</td>\n",
       "      <td>32</td>\n",
       "      <td>581988</td>\n",
       "      <td>0</td>\n",
       "      <td>0.0</td>\n",
       "      <td>0.0</td>\n",
       "      <td>1.0</td>\n",
       "      <td>0.0</td>\n",
       "      <td>0.0</td>\n",
       "      <td>0.0</td>\n",
       "    </tr>\n",
       "    <tr>\n",
       "      <th>2</th>\n",
       "      <td>56</td>\n",
       "      <td>268</td>\n",
       "      <td>3</td>\n",
       "      <td>26</td>\n",
       "      <td>1484315</td>\n",
       "      <td>0</td>\n",
       "      <td>0.0</td>\n",
       "      <td>0.0</td>\n",
       "      <td>0.0</td>\n",
       "      <td>1.0</td>\n",
       "      <td>1.0</td>\n",
       "      <td>0.0</td>\n",
       "    </tr>\n",
       "    <tr>\n",
       "      <th>3</th>\n",
       "      <td>34</td>\n",
       "      <td>270</td>\n",
       "      <td>1</td>\n",
       "      <td>19</td>\n",
       "      <td>470454</td>\n",
       "      <td>0</td>\n",
       "      <td>1.0</td>\n",
       "      <td>0.0</td>\n",
       "      <td>1.0</td>\n",
       "      <td>0.0</td>\n",
       "      <td>0.0</td>\n",
       "      <td>0.0</td>\n",
       "    </tr>\n",
       "    <tr>\n",
       "      <th>4</th>\n",
       "      <td>30</td>\n",
       "      <td>282</td>\n",
       "      <td>1</td>\n",
       "      <td>33</td>\n",
       "      <td>886787</td>\n",
       "      <td>0</td>\n",
       "      <td>0.0</td>\n",
       "      <td>0.0</td>\n",
       "      <td>1.0</td>\n",
       "      <td>0.0</td>\n",
       "      <td>0.0</td>\n",
       "      <td>0.0</td>\n",
       "    </tr>\n",
       "    <tr>\n",
       "      <th>...</th>\n",
       "      <td>...</td>\n",
       "      <td>...</td>\n",
       "      <td>...</td>\n",
       "      <td>...</td>\n",
       "      <td>...</td>\n",
       "      <td>...</td>\n",
       "      <td>...</td>\n",
       "      <td>...</td>\n",
       "      <td>...</td>\n",
       "      <td>...</td>\n",
       "      <td>...</td>\n",
       "      <td>...</td>\n",
       "    </tr>\n",
       "    <tr>\n",
       "      <th>245720</th>\n",
       "      <td>51</td>\n",
       "      <td>284</td>\n",
       "      <td>3</td>\n",
       "      <td>109</td>\n",
       "      <td>1925586</td>\n",
       "      <td>0</td>\n",
       "      <td>1.0</td>\n",
       "      <td>0.0</td>\n",
       "      <td>0.0</td>\n",
       "      <td>1.0</td>\n",
       "      <td>0.0</td>\n",
       "      <td>0.0</td>\n",
       "    </tr>\n",
       "    <tr>\n",
       "      <th>245721</th>\n",
       "      <td>27</td>\n",
       "      <td>268</td>\n",
       "      <td>1</td>\n",
       "      <td>15</td>\n",
       "      <td>862952</td>\n",
       "      <td>0</td>\n",
       "      <td>1.0</td>\n",
       "      <td>0.0</td>\n",
       "      <td>1.0</td>\n",
       "      <td>0.0</td>\n",
       "      <td>1.0</td>\n",
       "      <td>0.0</td>\n",
       "    </tr>\n",
       "    <tr>\n",
       "      <th>245722</th>\n",
       "      <td>26</td>\n",
       "      <td>281</td>\n",
       "      <td>1</td>\n",
       "      <td>13</td>\n",
       "      <td>670659</td>\n",
       "      <td>0</td>\n",
       "      <td>0.0</td>\n",
       "      <td>0.0</td>\n",
       "      <td>1.0</td>\n",
       "      <td>0.0</td>\n",
       "      <td>0.0</td>\n",
       "      <td>0.0</td>\n",
       "    </tr>\n",
       "    <tr>\n",
       "      <th>245723</th>\n",
       "      <td>28</td>\n",
       "      <td>273</td>\n",
       "      <td>1</td>\n",
       "      <td>31</td>\n",
       "      <td>407504</td>\n",
       "      <td>0</td>\n",
       "      <td>0.0</td>\n",
       "      <td>0.0</td>\n",
       "      <td>1.0</td>\n",
       "      <td>0.0</td>\n",
       "      <td>0.0</td>\n",
       "      <td>0.0</td>\n",
       "    </tr>\n",
       "    <tr>\n",
       "      <th>245724</th>\n",
       "      <td>29</td>\n",
       "      <td>269</td>\n",
       "      <td>1</td>\n",
       "      <td>21</td>\n",
       "      <td>1129276</td>\n",
       "      <td>0</td>\n",
       "      <td>1.0</td>\n",
       "      <td>0.0</td>\n",
       "      <td>1.0</td>\n",
       "      <td>0.0</td>\n",
       "      <td>0.0</td>\n",
       "      <td>0.0</td>\n",
       "    </tr>\n",
       "  </tbody>\n",
       "</table>\n",
       "<p>245725 rows × 12 columns</p>\n",
       "</div>"
      ],
      "text/plain": [
       "        Age  Region_Code  Channel_Code  Vintage  Avg_Account_Balance  Is_Lead  \\\n",
       "0        73          268             3       43              1045696        0   \n",
       "1        30          277             1       32               581988        0   \n",
       "2        56          268             3       26              1484315        0   \n",
       "3        34          270             1       19               470454        0   \n",
       "4        30          282             1       33               886787        0   \n",
       "...     ...          ...           ...      ...                  ...      ...   \n",
       "245720   51          284             3      109              1925586        0   \n",
       "245721   27          268             1       15               862952        0   \n",
       "245722   26          281             1       13               670659        0   \n",
       "245723   28          273             1       31               407504        0   \n",
       "245724   29          269             1       21              1129276        0   \n",
       "\n",
       "        Gender_Male  Occupation_Other  Occupation_Salaried  \\\n",
       "0               0.0               1.0                  0.0   \n",
       "1               0.0               0.0                  1.0   \n",
       "2               0.0               0.0                  0.0   \n",
       "3               1.0               0.0                  1.0   \n",
       "4               0.0               0.0                  1.0   \n",
       "...             ...               ...                  ...   \n",
       "245720          1.0               0.0                  0.0   \n",
       "245721          1.0               0.0                  1.0   \n",
       "245722          0.0               0.0                  1.0   \n",
       "245723          0.0               0.0                  1.0   \n",
       "245724          1.0               0.0                  1.0   \n",
       "\n",
       "        Occupation_Self_Employed  Is_Active_Yes  Credit_Product_Yes  \n",
       "0                            0.0            0.0                 0.0  \n",
       "1                            0.0            0.0                 0.0  \n",
       "2                            1.0            1.0                 0.0  \n",
       "3                            0.0            0.0                 0.0  \n",
       "4                            0.0            0.0                 0.0  \n",
       "...                          ...            ...                 ...  \n",
       "245720                       1.0            0.0                 0.0  \n",
       "245721                       0.0            1.0                 0.0  \n",
       "245722                       0.0            0.0                 0.0  \n",
       "245723                       0.0            0.0                 0.0  \n",
       "245724                       0.0            0.0                 0.0  \n",
       "\n",
       "[245725 rows x 12 columns]"
      ]
     },
     "execution_count": 293,
     "metadata": {},
     "output_type": "execute_result"
    }
   ],
   "source": [
    "duplicate_data"
   ]
  },
  {
   "cell_type": "code",
   "execution_count": null,
   "id": "c8ae752f",
   "metadata": {
    "id": "c8ae752f",
    "outputId": "564bfefa-99bf-4844-cacc-b0ee543f183b"
   },
   "outputs": [
    {
     "data": {
      "text/plain": [
       "8000000"
      ]
     },
     "execution_count": 294,
     "metadata": {},
     "output_type": "execute_result"
    }
   ],
   "source": [
    "duplicate_data['Avg_Account_Balance'].max()"
   ]
  },
  {
   "cell_type": "code",
   "execution_count": null,
   "id": "34acaf9e",
   "metadata": {
    "id": "34acaf9e",
    "outputId": "d63cd7b4-df57-4668-e4ad-535c82649469"
   },
   "outputs": [
    {
     "data": {
      "text/plain": [
       "20790"
      ]
     },
     "execution_count": 287,
     "metadata": {},
     "output_type": "execute_result"
    }
   ],
   "source": [
    "duplicate_data['Avg_Account_Balance'].min()"
   ]
  },
  {
   "cell_type": "code",
   "execution_count": null,
   "id": "e4a37341",
   "metadata": {
    "id": "e4a37341",
    "outputId": "08ab6156-3475-4b8c-cab9-f7ba1cccbafb"
   },
   "outputs": [
    {
     "name": "stdout",
     "output_type": "stream",
     "text": [
      "        Age  Region_Code  Channel_Code  Vintage  Avg_Account_Balance  Is_Lead  \\\n",
      "1145     59          268             3       50              8256124        0   \n",
      "6195     43          254             2       19              8588270        0   \n",
      "8258     60          268             1       21              8741290        1   \n",
      "9050     72          283             3      103              8781245        1   \n",
      "10167    62          261             3       55              8348854        1   \n",
      "...     ...          ...           ...      ...                  ...      ...   \n",
      "242717   28          284             1       20              9039459        0   \n",
      "242889   47          284             2       25              8183118        0   \n",
      "243818   66          283             3      109              8435295        1   \n",
      "245365   25          254             1       15              9279729        0   \n",
      "245701   32          277             1       13              9491986        0   \n",
      "\n",
      "        Gender_Male  Occupation_Other  Occupation_Salaried  \\\n",
      "1145            0.0               0.0                  0.0   \n",
      "6195            0.0               0.0                  0.0   \n",
      "8258            1.0               0.0                  0.0   \n",
      "9050            1.0               1.0                  0.0   \n",
      "10167           1.0               1.0                  0.0   \n",
      "...             ...               ...                  ...   \n",
      "242717          0.0               1.0                  0.0   \n",
      "242889          0.0               0.0                  0.0   \n",
      "243818          0.0               1.0                  0.0   \n",
      "245365          0.0               1.0                  0.0   \n",
      "245701          1.0               0.0                  1.0   \n",
      "\n",
      "        Occupation_Self_Employed  Is_Active_Yes  Credit_Product_Yes  \n",
      "1145                         1.0            0.0                 0.0  \n",
      "6195                         1.0            0.0                 1.0  \n",
      "8258                         1.0            0.0                 1.0  \n",
      "9050                         0.0            1.0                 1.0  \n",
      "10167                        0.0            0.0                 1.0  \n",
      "...                          ...            ...                 ...  \n",
      "242717                       0.0            0.0                 1.0  \n",
      "242889                       1.0            0.0                 1.0  \n",
      "243818                       0.0            0.0                 1.0  \n",
      "245365                       0.0            1.0                 0.0  \n",
      "245701                       0.0            0.0                 1.0  \n",
      "\n",
      "[170 rows x 12 columns]\n"
     ]
    }
   ],
   "source": [
    "#just for understanding\n",
    "# Define the limit for filtering values\n",
    "limit = 8000000 # Customize this limit based on your requirement\n",
    "\n",
    "# Use boolean indexing to filter values above the limit\n",
    "values_above_limit = data[data['Avg_Account_Balance'] > limit]\n",
    "\n",
    "# Display the filtered DataFrame\n",
    "print(values_above_limit)\n"
   ]
  },
  {
   "cell_type": "code",
   "execution_count": null,
   "id": "0ad5e78c",
   "metadata": {
    "id": "0ad5e78c",
    "outputId": "b5eef56e-ecdc-412e-ce20-d7f0985c93c9"
   },
   "outputs": [
    {
     "name": "stdout",
     "output_type": "stream",
     "text": [
      "        Age  Region_Code  Channel_Code  Vintage  Avg_Account_Balance  Is_Lead  \\\n",
      "1145     59          268             3       50              8000000        0   \n",
      "6195     43          254             2       19              8000000        0   \n",
      "8258     60          268             1       21              8000000        1   \n",
      "9050     72          283             3      103              8000000        1   \n",
      "10167    62          261             3       55              8000000        1   \n",
      "...     ...          ...           ...      ...                  ...      ...   \n",
      "242717   28          284             1       20              8000000        0   \n",
      "242889   47          284             2       25              8000000        0   \n",
      "243818   66          283             3      109              8000000        1   \n",
      "245365   25          254             1       15              8000000        0   \n",
      "245701   32          277             1       13              8000000        0   \n",
      "\n",
      "        Gender_Male  Occupation_Other  Occupation_Salaried  \\\n",
      "1145            0.0               0.0                  0.0   \n",
      "6195            0.0               0.0                  0.0   \n",
      "8258            1.0               0.0                  0.0   \n",
      "9050            1.0               1.0                  0.0   \n",
      "10167           1.0               1.0                  0.0   \n",
      "...             ...               ...                  ...   \n",
      "242717          0.0               1.0                  0.0   \n",
      "242889          0.0               0.0                  0.0   \n",
      "243818          0.0               1.0                  0.0   \n",
      "245365          0.0               1.0                  0.0   \n",
      "245701          1.0               0.0                  1.0   \n",
      "\n",
      "        Occupation_Self_Employed  Is_Active_Yes  Credit_Product_Yes  \n",
      "1145                         1.0            0.0                 0.0  \n",
      "6195                         1.0            0.0                 1.0  \n",
      "8258                         1.0            0.0                 1.0  \n",
      "9050                         0.0            1.0                 1.0  \n",
      "10167                        0.0            0.0                 1.0  \n",
      "...                          ...            ...                 ...  \n",
      "242717                       0.0            0.0                 1.0  \n",
      "242889                       1.0            0.0                 1.0  \n",
      "243818                       0.0            0.0                 1.0  \n",
      "245365                       0.0            1.0                 0.0  \n",
      "245701                       0.0            0.0                 1.0  \n",
      "\n",
      "[170 rows x 12 columns]\n"
     ]
    }
   ],
   "source": [
    "# Check if outliers have been replaced\n",
    "outliers_replaced = (duplicate_data['Avg_Account_Balance'] != data['Avg_Account_Balance'])\n",
    "\n",
    "# Display the rows where outliers have been replaced\n",
    "print(duplicate_data[outliers_replaced])"
   ]
  },
  {
   "cell_type": "code",
   "execution_count": null,
   "id": "b2d79ed6",
   "metadata": {
    "id": "b2d79ed6",
    "outputId": "dc5b338c-de9d-4724-9ac4-402b8fd31d69"
   },
   "outputs": [
    {
     "data": {
      "text/plain": [
       "Text(0.5, 1.0, 'Boxplot of Avg_Account_Balance')"
      ]
     },
     "execution_count": 297,
     "metadata": {},
     "output_type": "execute_result"
    },
    {
     "data": {
      "image/png": "[encoded data removed]",
      "text/plain": [
       "<Figure size 720x432 with 1 Axes>"
      ]
     },
     "metadata": {
      "needs_background": "light"
     },
     "output_type": "display_data"
    }
   ],
   "source": [
    "plt.boxplot(duplicate_data['Avg_Account_Balance'])\n",
    "plt.title(\"Boxplot of Avg_Account_Balance\")"
   ]
  },
  {
   "cell_type": "code",
   "execution_count": null,
   "id": "ba78996e",
   "metadata": {
    "id": "ba78996e",
    "outputId": "71d07be2-9d34-49af-8bd2-fa688da2f4c3"
   },
   "outputs": [
    {
     "data": {
      "image/png": "[encoded data removed]",
      "text/plain": [
       "<Figure size 720x432 with 1 Axes>"
      ]
     },
     "metadata": {
      "needs_background": "light"
     },
     "output_type": "display_data"
    }
   ],
   "source": [
    "plt.figure(figsize=(10, 6))\n",
    "sns.histplot(duplicate_data['Avg_Account_Balance'], bins=40, kde=True)\n",
    "plt.xlabel('Average Account Balance')\n",
    "plt.ylabel('Count')\n",
    "plt.title('Distribution of Average Account Balance')\n",
    "plt.show()"
   ]
  },
  {
   "cell_type": "code",
   "execution_count": null,
   "id": "a14204ca",
   "metadata": {
    "id": "a14204ca",
    "outputId": "4594c2c6-6423-45a5-e33c-7d313266d268"
   },
   "outputs": [
    {
     "name": "stdout",
     "output_type": "stream",
     "text": [
      "        Age  Region_Code  Channel_Code  Vintage  Avg_Account_Balance  Is_Lead  \\\n",
      "0        73          268             3       43              1045696        0   \n",
      "1        30          277             1       32               581988        0   \n",
      "2        56          268             3       26              1484315        0   \n",
      "3        34          270             1       19               470454        0   \n",
      "4        30          282             1       33               886787        0   \n",
      "...     ...          ...           ...      ...                  ...      ...   \n",
      "245720   51          284             3      109              1925586        0   \n",
      "245721   27          268             1       15               862952        0   \n",
      "245722   26          281             1       13               670659        0   \n",
      "245723   28          273             1       31               407504        0   \n",
      "245724   29          269             1       21              1129276        0   \n",
      "\n",
      "        Gender_Male  Occupation_Other  Occupation_Salaried  \\\n",
      "0               0.0               1.0                  0.0   \n",
      "1               0.0               0.0                  1.0   \n",
      "2               0.0               0.0                  0.0   \n",
      "3               1.0               0.0                  1.0   \n",
      "4               0.0               0.0                  1.0   \n",
      "...             ...               ...                  ...   \n",
      "245720          1.0               0.0                  0.0   \n",
      "245721          1.0               0.0                  1.0   \n",
      "245722          0.0               0.0                  1.0   \n",
      "245723          0.0               0.0                  1.0   \n",
      "245724          1.0               0.0                  1.0   \n",
      "\n",
      "        Occupation_Self_Employed  Is_Active_Yes  Credit_Product_Yes  \\\n",
      "0                            0.0            0.0                 0.0   \n",
      "1                            0.0            0.0                 0.0   \n",
      "2                            1.0            1.0                 0.0   \n",
      "3                            0.0            0.0                 0.0   \n",
      "4                            0.0            0.0                 0.0   \n",
      "...                          ...            ...                 ...   \n",
      "245720                       1.0            0.0                 0.0   \n",
      "245721                       0.0            1.0                 0.0   \n",
      "245722                       0.0            0.0                 0.0   \n",
      "245723                       0.0            0.0                 0.0   \n",
      "245724                       0.0            0.0                 0.0   \n",
      "\n",
      "        Avg_Account_Balance_sqrt  \n",
      "0                    1022.592783  \n",
      "1                     762.881380  \n",
      "2                    1218.324669  \n",
      "3                     685.896494  \n",
      "4                     941.693687  \n",
      "...                          ...  \n",
      "245720               1387.654856  \n",
      "245721                928.952098  \n",
      "245722                818.937727  \n",
      "245723                638.360400  \n",
      "245724               1062.673986  \n",
      "\n",
      "[245725 rows x 13 columns]\n"
     ]
    }
   ],
   "source": [
    "#SQUAREROOT TRANSFORMATION\n",
    "credit_card_data1 = data.copy()\n",
    "# Square root transformation on the \"avg_account_balance\" column\n",
    "credit_card_data1['Avg_Account_Balance_sqrt'] = np.sqrt(credit_card_data1['Avg_Account_Balance'])\n",
    "\n",
    "# Print the DataFrame to observe the transformation\n",
    "print(credit_card_data1)"
   ]
  },
  {
   "cell_type": "code",
   "execution_count": null,
   "id": "25dc81ac",
   "metadata": {
    "id": "25dc81ac",
    "outputId": "543f19e5-d81b-499c-c398-c22a34101b0b"
   },
   "outputs": [
    {
     "data": {
      "text/plain": [
       "Text(0.5, 1.0, 'Box Plot of sqrt-Transformed Avg_Account_Balance')"
      ]
     },
     "execution_count": 1417,
     "metadata": {},
     "output_type": "execute_result"
    },
    {
     "data": {
      "image/png": "[encoded data removed]",
      "text/plain": [
       "<Figure size 576x432 with 1 Axes>"
      ]
     },
     "metadata": {
      "needs_background": "light"
     },
     "output_type": "display_data"
    }
   ],
   "source": [
    "plt.figure(figsize=(8, 6))\n",
    "plt.boxplot(credit_card_data1['Avg_Account_Balance_sqrt'])\n",
    "plt.title('Box Plot of sqrt-Transformed Avg_Account_Balance')"
   ]
  },
  {
   "cell_type": "code",
   "execution_count": null,
   "id": "3f131073",
   "metadata": {
    "id": "3f131073",
    "outputId": "106b8860-e85e-4fc5-f2cb-c96c7ccdea7f"
   },
   "outputs": [
    {
     "data": {
      "image/png": "[encoded data removed]",
      "text/plain": [
       "<Figure size 720x432 with 1 Axes>"
      ]
     },
     "metadata": {
      "needs_background": "light"
     },
     "output_type": "display_data"
    }
   ],
   "source": [
    "plt.figure(figsize=(10, 6))\n",
    "sns.histplot(credit_card_data1['Avg_Account_Balance_sqrt'], bins=40, kde=True)\n",
    "plt.xlabel('Average Account Balance')\n",
    "plt.ylabel('Count')\n",
    "plt.title('Distribution of Average Account Balance')\n",
    "plt.show()"
   ]
  },
  {
   "cell_type": "code",
   "execution_count": null,
   "id": "8eb9ad18",
   "metadata": {
    "id": "8eb9ad18"
   },
   "outputs": [],
   "source": [
    "#TRIMMING"
   ]
  },
  {
   "cell_type": "code",
   "execution_count": null,
   "id": "05e4d563",
   "metadata": {
    "id": "05e4d563",
    "outputId": "a240df0a-843b-4224-e26d-d0a745a976f7"
   },
   "outputs": [
    {
     "name": "stdout",
     "output_type": "stream",
     "text": [
      "   Age  Region_Code  Channel_Code  Vintage  Avg_Account_Balance  Is_Lead  \\\n",
      "0   73          268             3       43              1045696        0   \n",
      "1   30          277             1       32               581988        0   \n",
      "2   56          268             3       26              1484315        0   \n",
      "3   34          270             1       19               470454        0   \n",
      "4   30          282             1       33               886787        0   \n",
      "\n",
      "   Gender_Male  Occupation_Other  Occupation_Salaried  \\\n",
      "0          0.0               1.0                  0.0   \n",
      "1          0.0               0.0                  1.0   \n",
      "2          0.0               0.0                  0.0   \n",
      "3          1.0               0.0                  1.0   \n",
      "4          0.0               0.0                  1.0   \n",
      "\n",
      "   Occupation_Self_Employed  Is_Active_Yes  Credit_Product_Yes  \n",
      "0                       0.0            0.0                 0.0  \n",
      "1                       0.0            0.0                 0.0  \n",
      "2                       1.0            1.0                 0.0  \n",
      "3                       0.0            0.0                 0.0  \n",
      "4                       0.0            0.0                 0.0  \n"
     ]
    }
   ],
   "source": [
    "#TRIMMING\n",
    "\n",
    "\n",
    "\n",
    "# Define the lower and upper percentiles for trimming\n",
    "lower_percentile = 5\n",
    "upper_percentile = 95\n",
    "\n",
    "# Calculate the percentiles\n",
    "lower_bound = np.percentile(data['Avg_Account_Balance'], 5)\n",
    "upper_bound = np.percentile(data['Avg_Account_Balance'], 95)\n",
    "\n",
    "# Trim the outliers and store the trimmed data in a new DataFrame\n",
    "trimmed_data = data[(data['Avg_Account_Balance'] >= lower_bound) & (data['Avg_Account_Balance'] <= upper_bound)].copy()\n",
    "\n",
    "# Alternatively, you can replace the original column with the trimmed values\n",
    "#data[column_name] = data[column_name].clip(lower_bound, upper_bound)\n",
    "\n",
    "# Show the updated DataFrame with trimmed data\n",
    "print(trimmed_data.head())"
   ]
  },
  {
   "cell_type": "code",
   "execution_count": null,
   "id": "dbf0fdb4",
   "metadata": {
    "id": "dbf0fdb4",
    "outputId": "0119e340-f151-41ea-94c2-91c9a0693054"
   },
   "outputs": [
    {
     "data": {
      "text/html": [
       "<div>\n",
       "<style scoped>\n",
       "    .dataframe tbody tr th:only-of-type {\n",
       "        vertical-align: middle;\n",
       "    }\n",
       "\n",
       "    .dataframe tbody tr th {\n",
       "        vertical-align: top;\n",
       "    }\n",
       "\n",
       "    .dataframe thead th {\n",
       "        text-align: right;\n",
       "    }\n",
       "</style>\n",
       "<table border=\"1\" class=\"dataframe\">\n",
       "  <thead>\n",
       "    <tr style=\"text-align: right;\">\n",
       "      <th></th>\n",
       "      <th>Age</th>\n",
       "      <th>Region_Code</th>\n",
       "      <th>Channel_Code</th>\n",
       "      <th>Vintage</th>\n",
       "      <th>Avg_Account_Balance</th>\n",
       "      <th>Is_Lead</th>\n",
       "      <th>Gender_Male</th>\n",
       "      <th>Occupation_Other</th>\n",
       "      <th>Occupation_Salaried</th>\n",
       "      <th>Occupation_Self_Employed</th>\n",
       "      <th>Is_Active_Yes</th>\n",
       "      <th>Credit_Product_Yes</th>\n",
       "    </tr>\n",
       "  </thead>\n",
       "  <tbody>\n",
       "    <tr>\n",
       "      <th>0</th>\n",
       "      <td>73</td>\n",
       "      <td>268</td>\n",
       "      <td>3</td>\n",
       "      <td>43</td>\n",
       "      <td>1045696</td>\n",
       "      <td>0</td>\n",
       "      <td>0.0</td>\n",
       "      <td>1.0</td>\n",
       "      <td>0.0</td>\n",
       "      <td>0.0</td>\n",
       "      <td>0.0</td>\n",
       "      <td>0.0</td>\n",
       "    </tr>\n",
       "    <tr>\n",
       "      <th>1</th>\n",
       "      <td>30</td>\n",
       "      <td>277</td>\n",
       "      <td>1</td>\n",
       "      <td>32</td>\n",
       "      <td>581988</td>\n",
       "      <td>0</td>\n",
       "      <td>0.0</td>\n",
       "      <td>0.0</td>\n",
       "      <td>1.0</td>\n",
       "      <td>0.0</td>\n",
       "      <td>0.0</td>\n",
       "      <td>0.0</td>\n",
       "    </tr>\n",
       "    <tr>\n",
       "      <th>2</th>\n",
       "      <td>56</td>\n",
       "      <td>268</td>\n",
       "      <td>3</td>\n",
       "      <td>26</td>\n",
       "      <td>1484315</td>\n",
       "      <td>0</td>\n",
       "      <td>0.0</td>\n",
       "      <td>0.0</td>\n",
       "      <td>0.0</td>\n",
       "      <td>1.0</td>\n",
       "      <td>1.0</td>\n",
       "      <td>0.0</td>\n",
       "    </tr>\n",
       "    <tr>\n",
       "      <th>3</th>\n",
       "      <td>34</td>\n",
       "      <td>270</td>\n",
       "      <td>1</td>\n",
       "      <td>19</td>\n",
       "      <td>470454</td>\n",
       "      <td>0</td>\n",
       "      <td>1.0</td>\n",
       "      <td>0.0</td>\n",
       "      <td>1.0</td>\n",
       "      <td>0.0</td>\n",
       "      <td>0.0</td>\n",
       "      <td>0.0</td>\n",
       "    </tr>\n",
       "    <tr>\n",
       "      <th>4</th>\n",
       "      <td>30</td>\n",
       "      <td>282</td>\n",
       "      <td>1</td>\n",
       "      <td>33</td>\n",
       "      <td>886787</td>\n",
       "      <td>0</td>\n",
       "      <td>0.0</td>\n",
       "      <td>0.0</td>\n",
       "      <td>1.0</td>\n",
       "      <td>0.0</td>\n",
       "      <td>0.0</td>\n",
       "      <td>0.0</td>\n",
       "    </tr>\n",
       "    <tr>\n",
       "      <th>...</th>\n",
       "      <td>...</td>\n",
       "      <td>...</td>\n",
       "      <td>...</td>\n",
       "      <td>...</td>\n",
       "      <td>...</td>\n",
       "      <td>...</td>\n",
       "      <td>...</td>\n",
       "      <td>...</td>\n",
       "      <td>...</td>\n",
       "      <td>...</td>\n",
       "      <td>...</td>\n",
       "      <td>...</td>\n",
       "    </tr>\n",
       "    <tr>\n",
       "      <th>245720</th>\n",
       "      <td>51</td>\n",
       "      <td>284</td>\n",
       "      <td>3</td>\n",
       "      <td>109</td>\n",
       "      <td>1925586</td>\n",
       "      <td>0</td>\n",
       "      <td>1.0</td>\n",
       "      <td>0.0</td>\n",
       "      <td>0.0</td>\n",
       "      <td>1.0</td>\n",
       "      <td>0.0</td>\n",
       "      <td>0.0</td>\n",
       "    </tr>\n",
       "    <tr>\n",
       "      <th>245721</th>\n",
       "      <td>27</td>\n",
       "      <td>268</td>\n",
       "      <td>1</td>\n",
       "      <td>15</td>\n",
       "      <td>862952</td>\n",
       "      <td>0</td>\n",
       "      <td>1.0</td>\n",
       "      <td>0.0</td>\n",
       "      <td>1.0</td>\n",
       "      <td>0.0</td>\n",
       "      <td>1.0</td>\n",
       "      <td>0.0</td>\n",
       "    </tr>\n",
       "    <tr>\n",
       "      <th>245722</th>\n",
       "      <td>26</td>\n",
       "      <td>281</td>\n",
       "      <td>1</td>\n",
       "      <td>13</td>\n",
       "      <td>670659</td>\n",
       "      <td>0</td>\n",
       "      <td>0.0</td>\n",
       "      <td>0.0</td>\n",
       "      <td>1.0</td>\n",
       "      <td>0.0</td>\n",
       "      <td>0.0</td>\n",
       "      <td>0.0</td>\n",
       "    </tr>\n",
       "    <tr>\n",
       "      <th>245723</th>\n",
       "      <td>28</td>\n",
       "      <td>273</td>\n",
       "      <td>1</td>\n",
       "      <td>31</td>\n",
       "      <td>407504</td>\n",
       "      <td>0</td>\n",
       "      <td>0.0</td>\n",
       "      <td>0.0</td>\n",
       "      <td>1.0</td>\n",
       "      <td>0.0</td>\n",
       "      <td>0.0</td>\n",
       "      <td>0.0</td>\n",
       "    </tr>\n",
       "    <tr>\n",
       "      <th>245724</th>\n",
       "      <td>29</td>\n",
       "      <td>269</td>\n",
       "      <td>1</td>\n",
       "      <td>21</td>\n",
       "      <td>1129276</td>\n",
       "      <td>0</td>\n",
       "      <td>1.0</td>\n",
       "      <td>0.0</td>\n",
       "      <td>1.0</td>\n",
       "      <td>0.0</td>\n",
       "      <td>0.0</td>\n",
       "      <td>0.0</td>\n",
       "    </tr>\n",
       "  </tbody>\n",
       "</table>\n",
       "<p>221152 rows × 12 columns</p>\n",
       "</div>"
      ],
      "text/plain": [
       "        Age  Region_Code  Channel_Code  Vintage  Avg_Account_Balance  Is_Lead  \\\n",
       "0        73          268             3       43              1045696        0   \n",
       "1        30          277             1       32               581988        0   \n",
       "2        56          268             3       26              1484315        0   \n",
       "3        34          270             1       19               470454        0   \n",
       "4        30          282             1       33               886787        0   \n",
       "...     ...          ...           ...      ...                  ...      ...   \n",
       "245720   51          284             3      109              1925586        0   \n",
       "245721   27          268             1       15               862952        0   \n",
       "245722   26          281             1       13               670659        0   \n",
       "245723   28          273             1       31               407504        0   \n",
       "245724   29          269             1       21              1129276        0   \n",
       "\n",
       "        Gender_Male  Occupation_Other  Occupation_Salaried  \\\n",
       "0               0.0               1.0                  0.0   \n",
       "1               0.0               0.0                  1.0   \n",
       "2               0.0               0.0                  0.0   \n",
       "3               1.0               0.0                  1.0   \n",
       "4               0.0               0.0                  1.0   \n",
       "...             ...               ...                  ...   \n",
       "245720          1.0               0.0                  0.0   \n",
       "245721          1.0               0.0                  1.0   \n",
       "245722          0.0               0.0                  1.0   \n",
       "245723          0.0               0.0                  1.0   \n",
       "245724          1.0               0.0                  1.0   \n",
       "\n",
       "        Occupation_Self_Employed  Is_Active_Yes  Credit_Product_Yes  \n",
       "0                            0.0            0.0                 0.0  \n",
       "1                            0.0            0.0                 0.0  \n",
       "2                            1.0            1.0                 0.0  \n",
       "3                            0.0            0.0                 0.0  \n",
       "4                            0.0            0.0                 0.0  \n",
       "...                          ...            ...                 ...  \n",
       "245720                       1.0            0.0                 0.0  \n",
       "245721                       0.0            1.0                 0.0  \n",
       "245722                       0.0            0.0                 0.0  \n",
       "245723                       0.0            0.0                 0.0  \n",
       "245724                       0.0            0.0                 0.0  \n",
       "\n",
       "[221152 rows x 12 columns]"
      ]
     },
     "execution_count": 304,
     "metadata": {},
     "output_type": "execute_result"
    }
   ],
   "source": [
    "trimmed_data"
   ]
  },
  {
   "cell_type": "code",
   "execution_count": null,
   "id": "b48963d2",
   "metadata": {
    "id": "b48963d2",
    "outputId": "15a65ac9-a0d9-495f-f79d-6b3921b2518d"
   },
   "outputs": [
    {
     "data": {
      "text/plain": [
       "Text(0.5, 1.0, 'Box plot of Avg_Account_Balance')"
      ]
     },
     "execution_count": 305,
     "metadata": {},
     "output_type": "execute_result"
    },
    {
     "data": {
      "image/png": "[encoded data removed]",
      "text/plain": [
       "<Figure size 720x432 with 1 Axes>"
      ]
     },
     "metadata": {
      "needs_background": "light"
     },
     "output_type": "display_data"
    }
   ],
   "source": [
    "plt.boxplot(trimmed_data['Avg_Account_Balance'])\n",
    "plt.title('Box plot of Avg_Account_Balance')"
   ]
  },
  {
   "cell_type": "code",
   "execution_count": null,
   "id": "0c06df8c",
   "metadata": {
    "id": "0c06df8c",
    "outputId": "3462deef-517f-4c99-ea7e-176f784e46e7"
   },
   "outputs": [
    {
     "data": {
      "image/png": "[encoded data removed]",
      "text/plain": [
       "<Figure size 720x432 with 1 Axes>"
      ]
     },
     "metadata": {
      "needs_background": "light"
     },
     "output_type": "display_data"
    }
   ],
   "source": [
    "plt.figure(figsize=(10, 6))\n",
    "sns.histplot(trimmed_data['Avg_Account_Balance'], bins=40, kde=True)\n",
    "plt.xlabel('Average Account Balance')\n",
    "plt.ylabel('Count')\n",
    "plt.title('Distribution of Average Account Balance')\n",
    "plt.show()"
   ]
  }
 ],
 "metadata": {
  "colab": {
   "provenance": []
  },
  "kernelspec": {
   "display_name": "Python 3 (ipykernel)",
   "language": "python",
   "name": "python3"
  },
  "language_info": {
   "codemirror_mode": {
    "name": "ipython",
    "version": 3
   },
   "file_extension": ".py",
   "mimetype": "text/x-python",
   "name": "python",
   "nbconvert_exporter": "python",
   "pygments_lexer": "ipython3",
   "version": "3.10.9"
  }
 },
 "nbformat": 4,
 "nbformat_minor": 5
}
